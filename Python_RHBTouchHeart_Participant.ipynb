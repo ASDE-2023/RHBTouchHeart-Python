{
  "cells": [
    {
      "cell_type": "markdown",
      "metadata": {
        "id": "q5wNNG_-btQj"
      },
      "source": [
        "# Hello Ninja!"
      ]
    },
    {
      "cell_type": "markdown",
      "metadata": {
        "id": "OmZNmea_pm5F"
      },
      "source": [
        "Print Hello Ninja!"
      ]
    },
    {
      "cell_type": "markdown",
      "metadata": {
        "id": "6DmL7AeucCZZ"
      },
      "source": [
        "# Data Manipulation using Pandas"
      ]
    },
    {
      "cell_type": "markdown",
      "metadata": {
        "id": "zVSy3nT7gh1h"
      },
      "source": [
        "Import the pandas library and assign it the alias 'pd'"
      ]
    },
    {
      "cell_type": "code",
      "source": [],
      "metadata": {
        "id": "cOSiZOM3vnSM"
      },
      "execution_count": null,
      "outputs": []
    },
    {
      "cell_type": "markdown",
      "metadata": {
        "id": "5i_Ae51ng4WI"
      },
      "source": [
        "Read the Customer_Demographic CSV file and create a DataFrame named **data**"
      ]
    },
    {
      "cell_type": "code",
      "execution_count": null,
      "metadata": {
        "id": "HdaUTg4ygJ-a"
      },
      "outputs": [],
      "source": [
        "data = pd.read_csv(\"https://raw.githubusercontent.com/ASDE-2023/RHBTouchHeart-Python/main/Customer_Demographic.csv\")"
      ]
    },
    {
      "cell_type": "markdown",
      "metadata": {
        "id": "-S6JyPYgdmkN"
      },
      "source": [
        "Display Top 5 rows of the DataFrame named **data** using head"
      ]
    },
    {
      "cell_type": "code",
      "execution_count": null,
      "metadata": {
        "id": "_xaFHdF9cKdR"
      },
      "outputs": [],
      "source": []
    },
    {
      "cell_type": "markdown",
      "metadata": {
        "id": "LxXQ-2m9dpwU"
      },
      "source": [
        "Display Last 5 rows of the existing DataFrame using tail"
      ]
    },
    {
      "cell_type": "code",
      "execution_count": null,
      "metadata": {
        "id": "cfubrxA2drBb"
      },
      "outputs": [],
      "source": []
    },
    {
      "cell_type": "markdown",
      "metadata": {
        "id": "kIvFCiJLdtQm"
      },
      "source": [
        "Using the existing DataFrame, find the number of rows and columns using shape"
      ]
    },
    {
      "cell_type": "code",
      "execution_count": null,
      "metadata": {
        "id": "yYML9zPZdufe"
      },
      "outputs": [],
      "source": []
    },
    {
      "cell_type": "markdown",
      "metadata": {
        "id": "WG0nQwM9d01Q"
      },
      "source": [
        "Using the existing DataFrame, find the Index, Datatype and Memory Information using info"
      ]
    },
    {
      "cell_type": "code",
      "execution_count": null,
      "metadata": {
        "id": "p4FTgPWFdz1b"
      },
      "outputs": [],
      "source": []
    },
    {
      "cell_type": "markdown",
      "metadata": {
        "id": "_ZV9p3dXf0vy"
      },
      "source": [
        "Using the existing DataFrame, generate a descriptive statistics using describe"
      ]
    },
    {
      "cell_type": "code",
      "execution_count": null,
      "metadata": {
        "id": "SF3FPeDQedE8"
      },
      "outputs": [],
      "source": []
    },
    {
      "cell_type": "markdown",
      "metadata": {
        "id": "KDFOtGVxi9hH"
      },
      "source": [
        "# Selection"
      ]
    },
    {
      "cell_type": "markdown",
      "source": [
        "Create a dataframe name **uniq_data** and count the occurrences of unique values, including NaN. Only list top 3 records"
      ],
      "metadata": {
        "id": "cQ4iCVDFtTKf"
      }
    },
    {
      "cell_type": "code",
      "execution_count": null,
      "metadata": {
        "id": "xwbjNDeWhpUR"
      },
      "outputs": [],
      "source": []
    },
    {
      "cell_type": "markdown",
      "metadata": {
        "id": "uxSGL0ZGhp33"
      },
      "source": [
        "Create a DataFrame named **edu_series** and access the education column as a Series. Limit to top 3 records only\n"
      ]
    },
    {
      "cell_type": "code",
      "execution_count": null,
      "metadata": {
        "id": "XK-xZKnOgXMX"
      },
      "outputs": [],
      "source": []
    },
    {
      "cell_type": "markdown",
      "metadata": {
        "id": "Z-S6hganh-M9"
      },
      "source": [
        "Create a DataFrame named **subset_data** and access multiple columns('education' & 'age'). Limit to last 3 records only"
      ]
    },
    {
      "cell_type": "code",
      "execution_count": null,
      "metadata": {
        "id": "a3-LEiPmgXeq"
      },
      "outputs": [],
      "source": []
    },
    {
      "cell_type": "markdown",
      "metadata": {
        "id": "Xa266yyOiMsn"
      },
      "source": [
        "Create a DataFrame named **first_row** by selecting the 10th position using iloc\n",
        "\n"
      ]
    },
    {
      "cell_type": "code",
      "execution_count": null,
      "metadata": {
        "id": "0DYmcv-AkqGu"
      },
      "outputs": [],
      "source": []
    },
    {
      "cell_type": "markdown",
      "metadata": {
        "id": "xTcCjNEaiXYn"
      },
      "source": [
        "Create a DataFrame named **first_three_row** by selecting multiple row (0-3) using iloc[0:3]"
      ]
    },
    {
      "cell_type": "code",
      "execution_count": null,
      "metadata": {
        "id": "KexEwfcikqX7"
      },
      "outputs": [],
      "source": []
    },
    {
      "cell_type": "markdown",
      "metadata": {
        "id": "ecQ7tR12iyZQ"
      },
      "source": [
        "Create a DataFrame named **job_status** and count all jobs by categories"
      ]
    },
    {
      "cell_type": "code",
      "execution_count": null,
      "metadata": {
        "id": "L98ZHx9xq_Qy"
      },
      "outputs": [],
      "source": []
    },
    {
      "cell_type": "markdown",
      "metadata": {
        "id": "QOiLQfIHi_Ff"
      },
      "source": [
        "Create a DataFrame named **marital_count** and count all marital_status by categories"
      ]
    },
    {
      "cell_type": "code",
      "execution_count": null,
      "metadata": {
        "id": "PW4D-e8dc9he"
      },
      "outputs": [],
      "source": []
    },
    {
      "cell_type": "markdown",
      "metadata": {
        "id": "woEyDB4AjEcs"
      },
      "source": [
        "Create a DataFrame named **education_level** and count all education by categories"
      ]
    },
    {
      "cell_type": "code",
      "execution_count": null,
      "metadata": {
        "id": "Z9mNwy4yjJsk"
      },
      "outputs": [],
      "source": []
    },
    {
      "cell_type": "markdown",
      "metadata": {
        "id": "_7XqTRLPq-90"
      },
      "source": [
        "# Data Cleaning"
      ]
    },
    {
      "cell_type": "markdown",
      "metadata": {
        "id": "NYRQt_gAjT-j"
      },
      "source": [
        "Create a DataFrame named **data_rename** and rename column 'job' to 'position' and column 'age' to 'newage'. Limit to 3 records only"
      ]
    },
    {
      "cell_type": "code",
      "execution_count": null,
      "metadata": {
        "id": "vVGpfGutkq-2"
      },
      "outputs": [],
      "source": []
    },
    {
      "cell_type": "markdown",
      "source": [
        "Create a DataFrame named **is_null_array** and check for Null Values. Only display top 3 records"
      ],
      "metadata": {
        "id": "2Qxl896RHMOV"
      }
    },
    {
      "cell_type": "code",
      "execution_count": null,
      "metadata": {
        "id": "EIluk59zkrM4"
      },
      "outputs": [],
      "source": []
    },
    {
      "cell_type": "markdown",
      "source": [
        "Create a DataFrame named **not_null_array** and check for non-null values. Only display top 3 records"
      ],
      "metadata": {
        "id": "ruvl0pM_HV4D"
      }
    },
    {
      "cell_type": "code",
      "execution_count": null,
      "metadata": {
        "id": "3Di6kRPH3h59"
      },
      "outputs": [],
      "source": []
    },
    {
      "cell_type": "markdown",
      "source": [
        "Create a DataFrame named **data_dropped_rows** and drop rows with null values. Only display top 3 records"
      ],
      "metadata": {
        "id": "9RYEljDpHX5G"
      }
    },
    {
      "cell_type": "code",
      "execution_count": null,
      "metadata": {
        "id": "p60ApjqG3iMu"
      },
      "outputs": [],
      "source": []
    },
    {
      "cell_type": "markdown",
      "source": [
        "Check your data_dropped_rows DataFrame shape"
      ],
      "metadata": {
        "id": "gvuVUGaqHgsJ"
      }
    },
    {
      "cell_type": "code",
      "source": [],
      "metadata": {
        "id": "DshMJs_tHjtG"
      },
      "execution_count": null,
      "outputs": []
    },
    {
      "cell_type": "markdown",
      "metadata": {
        "id": "nkWfsr9OxDmc"
      },
      "source": [
        "\n",
        "# Filter, Sort & Groupby"
      ]
    },
    {
      "cell_type": "markdown",
      "metadata": {
        "id": "EU7xClunj_Qp"
      },
      "source": [
        "Create a DataFrame named **ascending_bal** and sort your 'casa_balance' column in ascending order. Limit to last 5 records only"
      ]
    },
    {
      "cell_type": "code",
      "execution_count": null,
      "metadata": {
        "id": "6DQJP9VCxJPC"
      },
      "outputs": [],
      "source": []
    },
    {
      "cell_type": "markdown",
      "metadata": {
        "id": "J2ImH5z_kPxR"
      },
      "source": [
        "Create a DataFrame named **descending_age** and sort your 'age' column in descending order. Limit to 5 records only"
      ]
    },
    {
      "cell_type": "code",
      "execution_count": null,
      "metadata": {
        "id": "76_2UMpixJm3"
      },
      "outputs": [],
      "source": []
    },
    {
      "cell_type": "markdown",
      "metadata": {
        "id": "bpELxdLRkmUZ"
      },
      "source": [
        "Create a DataFrame named **data_age_casa** and sort your 'casa_balance' column in ascending order then 'age' column in descending order. Display 5 records only"
      ]
    },
    {
      "cell_type": "code",
      "execution_count": null,
      "metadata": {
        "id": "oPJ8i4_4xJ72"
      },
      "outputs": [],
      "source": []
    },
    {
      "cell_type": "markdown",
      "source": [
        "Create a DataFrame named **group_race** and return a groupby object for values in column 'race'"
      ],
      "metadata": {
        "id": "zIe2pP5y18ku"
      }
    },
    {
      "cell_type": "code",
      "source": [],
      "metadata": {
        "id": "VKoC4ytyLGjL"
      },
      "execution_count": null,
      "outputs": []
    },
    {
      "cell_type": "markdown",
      "metadata": {
        "id": "yu-Gu50PxK0I"
      },
      "source": [
        "# Join & Combine"
      ]
    },
    {
      "cell_type": "markdown",
      "metadata": {
        "id": "E1dbvLpullWi"
      },
      "source": [
        "Create a new DataFrame named **data_products** by reading Customer_Banking_Products CSV file"
      ]
    },
    {
      "cell_type": "code",
      "execution_count": null,
      "metadata": {
        "id": "1YeXsIBPlDR7"
      },
      "outputs": [],
      "source": [
        "data_products = pd.read_csv(\"https://raw.githubusercontent.com/ASDE-2023/RHBTouchHeart-Python/main/Customer_Banking_Products.csv\")"
      ]
    },
    {
      "cell_type": "markdown",
      "metadata": {
        "id": "dvH7Fkxyl6x3"
      },
      "source": [
        "Display first 5 rows of the **data_products** DataFrame using head"
      ]
    },
    {
      "cell_type": "code",
      "execution_count": null,
      "metadata": {
        "id": "tijIn6MZ7fKY"
      },
      "outputs": [],
      "source": []
    },
    {
      "cell_type": "markdown",
      "metadata": {
        "id": "jTBtw4Axndb5"
      },
      "source": [
        "Create a DataFrame named **concat_data** and perform a Concatenate between **data** & **data_products** DataFrames. Display top 3 rows"
      ]
    },
    {
      "cell_type": "code",
      "execution_count": null,
      "metadata": {
        "id": "wigdS_-PxRy7"
      },
      "outputs": [],
      "source": []
    },
    {
      "cell_type": "markdown",
      "source": [
        "Check your DataFrame Shape"
      ],
      "metadata": {
        "id": "ybirUnG0Anp6"
      }
    },
    {
      "cell_type": "code",
      "source": [],
      "metadata": {
        "id": "_epJcj7jAvBx"
      },
      "execution_count": null,
      "outputs": []
    },
    {
      "cell_type": "markdown",
      "metadata": {
        "id": "_S_O_BVfni-f"
      },
      "source": [
        "Create a DataFrame named **final_result** and perform an inner join and display top 3 rows"
      ]
    },
    {
      "cell_type": "code",
      "execution_count": null,
      "metadata": {
        "id": "NlZMY8pNxSDK"
      },
      "outputs": [],
      "source": []
    },
    {
      "cell_type": "markdown",
      "source": [
        "Check the Shape of the final_result DataFrame"
      ],
      "metadata": {
        "id": "1xosukqQADzn"
      }
    },
    {
      "cell_type": "code",
      "source": [],
      "metadata": {
        "id": "FrUSXKmHAKEc"
      },
      "execution_count": null,
      "outputs": []
    },
    {
      "cell_type": "markdown",
      "source": [
        "Append Data : Create a DataFrame named **data_add** & read the Additional_Customer csv file. Display last 3 rows"
      ],
      "metadata": {
        "id": "CLiUzhD_9c1d"
      }
    },
    {
      "cell_type": "code",
      "source": [
        "data_add = pd.read_csv(\"https://raw.githubusercontent.com/ASDE-2023/RHBTouchHeart-Python/main/Additional_Customer.csv\")"
      ],
      "metadata": {
        "id": "yu883KKh9fCN"
      },
      "execution_count": null,
      "outputs": []
    },
    {
      "cell_type": "markdown",
      "source": [
        "Create a new DataFrame named appended_data and append **data_add** below **final_result** DataFrame"
      ],
      "metadata": {
        "id": "QueSbrYj-TRZ"
      }
    },
    {
      "cell_type": "code",
      "source": [],
      "metadata": {
        "id": "7SBKWOTT9fTd"
      },
      "execution_count": null,
      "outputs": []
    },
    {
      "cell_type": "markdown",
      "source": [
        "Check your appended_data shape"
      ],
      "metadata": {
        "id": "DOZFm8vgCzL7"
      }
    },
    {
      "cell_type": "code",
      "source": [],
      "metadata": {
        "id": "Xfw25EFBC3sJ"
      },
      "execution_count": null,
      "outputs": []
    },
    {
      "cell_type": "markdown",
      "source": [
        "# **Test your Ninja Skills !**"
      ],
      "metadata": {
        "id": "MRacFA2hDj-m"
      }
    },
    {
      "cell_type": "markdown",
      "metadata": {
        "id": "PJVsqXFgnnb_"
      },
      "source": [
        "Selecting customers with age more than 24, marital status is married and own a house(1). At the end of your script please include this >>> print(\"Count of customers with age greater than 24, married, and owns a house is ->\", **yourDataFrame**)<<<"
      ]
    },
    {
      "cell_type": "code",
      "execution_count": null,
      "metadata": {
        "id": "Any8N6SN_zQV"
      },
      "outputs": [],
      "source": []
    },
    {
      "cell_type": "markdown",
      "metadata": {
        "id": "UcX2lEbYn1-K"
      },
      "source": [
        "Selecting customers with the age between 30-40, their marital status is single and they own a house(1). >>> print(\"Count of customers with age between 30-40, single, and owns a house is ->\", **yourDataFrame**)<<<"
      ]
    },
    {
      "cell_type": "code",
      "source": [
        "\n"
      ],
      "metadata": {
        "id": "jr1u19Qj9fix"
      },
      "execution_count": null,
      "outputs": []
    },
    {
      "cell_type": "markdown",
      "metadata": {
        "id": "v1aSJ8PSCzcB"
      },
      "source": [
        "# Statistics"
      ]
    },
    {
      "cell_type": "markdown",
      "source": [
        "Use the exisiting DataFrame named **appended_data** for the statistic"
      ],
      "metadata": {
        "id": "Zwezmk6sOTTN"
      }
    },
    {
      "cell_type": "markdown",
      "metadata": {
        "id": "vIs-OBl8oBnD"
      },
      "source": [
        "Summary statistics for numerical columns"
      ]
    },
    {
      "cell_type": "code",
      "execution_count": null,
      "metadata": {
        "id": "WkVjAe6FC12W"
      },
      "outputs": [],
      "source": []
    },
    {
      "cell_type": "markdown",
      "metadata": {
        "id": "3SCaNQUdoFJ-"
      },
      "source": [
        "Returns the mean of all columns"
      ]
    },
    {
      "cell_type": "code",
      "execution_count": null,
      "metadata": {
        "id": "VbfppRw8C6ZU"
      },
      "outputs": [],
      "source": []
    },
    {
      "cell_type": "markdown",
      "metadata": {
        "id": "hcQNQyB4oGr0"
      },
      "source": [
        "Returns the correlation between columns in a DataFrame"
      ]
    },
    {
      "cell_type": "code",
      "execution_count": null,
      "metadata": {
        "id": "b12XX5lsC6tu"
      },
      "outputs": [],
      "source": []
    },
    {
      "cell_type": "markdown",
      "metadata": {
        "id": "s9ENY8_coKxM"
      },
      "source": [
        "Returns the number of non-null values in each DataFrame column"
      ]
    },
    {
      "cell_type": "code",
      "execution_count": null,
      "metadata": {
        "id": "36sv_dv_C7Bn"
      },
      "outputs": [],
      "source": []
    },
    {
      "cell_type": "markdown",
      "metadata": {
        "id": "zuuPnXTjoOvm"
      },
      "source": [
        "Returns the highest value in each column"
      ]
    },
    {
      "cell_type": "code",
      "execution_count": null,
      "metadata": {
        "id": "EjndId0BDebC"
      },
      "outputs": [],
      "source": []
    },
    {
      "cell_type": "markdown",
      "metadata": {
        "id": "lo2s0JjooTQh"
      },
      "source": [
        "Returns the lowest value in each column"
      ]
    },
    {
      "cell_type": "code",
      "execution_count": null,
      "metadata": {
        "id": "YgA8XRoRDeu1"
      },
      "outputs": [],
      "source": []
    },
    {
      "cell_type": "markdown",
      "metadata": {
        "id": "jAD9O4URoWs1"
      },
      "source": [
        "Returns the median of each column"
      ]
    },
    {
      "cell_type": "code",
      "execution_count": null,
      "metadata": {
        "id": "-lLUEi4QDfC_"
      },
      "outputs": [],
      "source": []
    },
    {
      "cell_type": "markdown",
      "metadata": {
        "id": "VtWoV2mfocAd"
      },
      "source": [
        "Returns the standard deviation of each column"
      ]
    },
    {
      "cell_type": "code",
      "execution_count": null,
      "metadata": {
        "id": "fxjKWD6GDfos"
      },
      "outputs": [],
      "source": []
    },
    {
      "cell_type": "markdown",
      "metadata": {
        "id": "o31q7CLP8U32"
      },
      "source": [
        "# Bonus Skills : Data Visualization"
      ]
    },
    {
      "cell_type": "code",
      "execution_count": null,
      "metadata": {
        "id": "bhCOnYLvbl7U"
      },
      "outputs": [],
      "source": [
        "import matplotlib.pyplot as plt"
      ]
    },
    {
      "cell_type": "code",
      "execution_count": null,
      "metadata": {
        "id": "c0DESyaK8ZnZ"
      },
      "outputs": [],
      "source": [
        "## Categorical visualization\n",
        "variable = 'column1' ## change column1 to columns that exists in your DataFrame\n",
        "\n",
        "var=df1[variable] ## change df1 to your DataFrame name\n",
        "#count number of categorical variable-group by\n",
        "varvalue=var.value_counts()\n",
        "plt.figure(figsize=(9,3))\n",
        "plt.bar(varvalue.index, varvalue)\n",
        "plt.xticks(varvalue.index,varvalue.index.values)\n",
        "plt.ylabel(\"Frequency\")\n",
        "plt.title(variable)\n",
        "plt.show()"
      ]
    },
    {
      "cell_type": "code",
      "execution_count": null,
      "metadata": {
        "id": "LdRb2R9RCxPu"
      },
      "outputs": [],
      "source": [
        "## Create a histogram visualization for Numeric Variables\n",
        "numeric_var = ['col1', 'col2']\n",
        "variable_new = numeric_var[1]\n",
        "\n",
        "var = df1[variable_new] ## change df1 to your DataFrame name\n",
        "\n",
        "plt.figure(figsize=(9, 6))\n",
        "plt.hist(var, bins=50)\n",
        "plt.xlabel(variable_new.capitalize())\n",
        "plt.ylabel(\"Frequency\")\n",
        "plt.title(\"Histogram of CASA_Balance\")\n",
        "plt.grid(True)\n",
        "plt.show()\n"
      ]
    }
  ],
  "metadata": {
    "colab": {
      "provenance": []
    },
    "kernelspec": {
      "display_name": "Python 3 (ipykernel)",
      "language": "python",
      "name": "python3"
    },
    "language_info": {
      "codemirror_mode": {
        "name": "ipython",
        "version": 3
      },
      "file_extension": ".py",
      "mimetype": "text/x-python",
      "name": "python",
      "nbconvert_exporter": "python",
      "pygments_lexer": "ipython3",
      "version": "3.7.13"
    }
  },
  "nbformat": 4,
  "nbformat_minor": 0
}