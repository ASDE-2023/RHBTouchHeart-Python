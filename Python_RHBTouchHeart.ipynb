{
  "cells": [
    {
      "cell_type": "markdown",
      "metadata": {
        "id": "q5wNNG_-btQj"
      },
      "source": [
        "# Hello Ninja!"
      ]
    },
    {
      "cell_type": "code",
      "execution_count": 81,
      "metadata": {
        "colab": {
          "base_uri": "https://localhost:8080/"
        },
        "id": "u-V_pUPhbrVQ",
        "outputId": "b039dd32-3043-45c2-87f0-e8e3f13f9e8c"
      },
      "outputs": [
        {
          "output_type": "stream",
          "name": "stdout",
          "text": [
            "Hello Ninja!\n"
          ]
        }
      ],
      "source": [
        "print(\"Hello Ninja!\")"
      ]
    },
    {
      "cell_type": "markdown",
      "metadata": {
        "id": "6DmL7AeucCZZ"
      },
      "source": [
        "# Data Manipulation using Pandas"
      ]
    },
    {
      "cell_type": "markdown",
      "source": [
        "Importing Pandas Library for Data Manipulation"
      ],
      "metadata": {
        "id": "wsKMjsQCJ8I7"
      }
    },
    {
      "cell_type": "code",
      "execution_count": 2,
      "metadata": {
        "id": "5SUx2whYcJuZ"
      },
      "outputs": [],
      "source": [
        "# Imports the pandas library and assigns it the alias 'pd'\n",
        "import pandas as pd\n",
        "\n",
        "# Setting the option to display all columns\n",
        "pd.set_option(\"display.max_columns\",None)\n",
        "\n",
        "# Reading the CSV file and creating the DataFrame\n",
        "data = pd.read_csv(\"Part1_RHBTouchHeart.csv\")"
      ]
    },
    {
      "cell_type": "markdown",
      "metadata": {
        "id": "-S6JyPYgdmkN"
      },
      "source": [
        "Head - Top 5 rows of the Bank data"
      ]
    },
    {
      "cell_type": "code",
      "execution_count": 3,
      "metadata": {
        "colab": {
          "base_uri": "https://localhost:8080/",
          "height": 206
        },
        "id": "_xaFHdF9cKdR",
        "outputId": "0e0a8533-04a6-4b84-c571-11b0b710c372"
      },
      "outputs": [
        {
          "output_type": "execute_result",
          "data": {
            "text/plain": [
              "  customer_id  age       race         job marital_status  education  \\\n",
              "0       L0001   59    chinese      admin.        married  secondary   \n",
              "1       L0002   56    chinese      admin.        married  secondary   \n",
              "2       L0003   41    chinese  technician        married  secondary   \n",
              "3       L0004   55  bumiputra    services        married  secondary   \n",
              "4       L0005   54    chinese      admin.        married   tertiary   \n",
              "\n",
              "   casa_balance  \n",
              "0          2343  \n",
              "1            45  \n",
              "2          1270  \n",
              "3          2476  \n",
              "4           184  "
            ],
            "text/html": [
              "\n",
              "  <div id=\"df-0c5650b7-14d9-4a6f-ac74-3740c09defba\">\n",
              "    <div class=\"colab-df-container\">\n",
              "      <div>\n",
              "<style scoped>\n",
              "    .dataframe tbody tr th:only-of-type {\n",
              "        vertical-align: middle;\n",
              "    }\n",
              "\n",
              "    .dataframe tbody tr th {\n",
              "        vertical-align: top;\n",
              "    }\n",
              "\n",
              "    .dataframe thead th {\n",
              "        text-align: right;\n",
              "    }\n",
              "</style>\n",
              "<table border=\"1\" class=\"dataframe\">\n",
              "  <thead>\n",
              "    <tr style=\"text-align: right;\">\n",
              "      <th></th>\n",
              "      <th>customer_id</th>\n",
              "      <th>age</th>\n",
              "      <th>race</th>\n",
              "      <th>job</th>\n",
              "      <th>marital_status</th>\n",
              "      <th>education</th>\n",
              "      <th>casa_balance</th>\n",
              "    </tr>\n",
              "  </thead>\n",
              "  <tbody>\n",
              "    <tr>\n",
              "      <th>0</th>\n",
              "      <td>L0001</td>\n",
              "      <td>59</td>\n",
              "      <td>chinese</td>\n",
              "      <td>admin.</td>\n",
              "      <td>married</td>\n",
              "      <td>secondary</td>\n",
              "      <td>2343</td>\n",
              "    </tr>\n",
              "    <tr>\n",
              "      <th>1</th>\n",
              "      <td>L0002</td>\n",
              "      <td>56</td>\n",
              "      <td>chinese</td>\n",
              "      <td>admin.</td>\n",
              "      <td>married</td>\n",
              "      <td>secondary</td>\n",
              "      <td>45</td>\n",
              "    </tr>\n",
              "    <tr>\n",
              "      <th>2</th>\n",
              "      <td>L0003</td>\n",
              "      <td>41</td>\n",
              "      <td>chinese</td>\n",
              "      <td>technician</td>\n",
              "      <td>married</td>\n",
              "      <td>secondary</td>\n",
              "      <td>1270</td>\n",
              "    </tr>\n",
              "    <tr>\n",
              "      <th>3</th>\n",
              "      <td>L0004</td>\n",
              "      <td>55</td>\n",
              "      <td>bumiputra</td>\n",
              "      <td>services</td>\n",
              "      <td>married</td>\n",
              "      <td>secondary</td>\n",
              "      <td>2476</td>\n",
              "    </tr>\n",
              "    <tr>\n",
              "      <th>4</th>\n",
              "      <td>L0005</td>\n",
              "      <td>54</td>\n",
              "      <td>chinese</td>\n",
              "      <td>admin.</td>\n",
              "      <td>married</td>\n",
              "      <td>tertiary</td>\n",
              "      <td>184</td>\n",
              "    </tr>\n",
              "  </tbody>\n",
              "</table>\n",
              "</div>\n",
              "      <button class=\"colab-df-convert\" onclick=\"convertToInteractive('df-0c5650b7-14d9-4a6f-ac74-3740c09defba')\"\n",
              "              title=\"Convert this dataframe to an interactive table.\"\n",
              "              style=\"display:none;\">\n",
              "        \n",
              "  <svg xmlns=\"http://www.w3.org/2000/svg\" height=\"24px\"viewBox=\"0 0 24 24\"\n",
              "       width=\"24px\">\n",
              "    <path d=\"M0 0h24v24H0V0z\" fill=\"none\"/>\n",
              "    <path d=\"M18.56 5.44l.94 2.06.94-2.06 2.06-.94-2.06-.94-.94-2.06-.94 2.06-2.06.94zm-11 1L8.5 8.5l.94-2.06 2.06-.94-2.06-.94L8.5 2.5l-.94 2.06-2.06.94zm10 10l.94 2.06.94-2.06 2.06-.94-2.06-.94-.94-2.06-.94 2.06-2.06.94z\"/><path d=\"M17.41 7.96l-1.37-1.37c-.4-.4-.92-.59-1.43-.59-.52 0-1.04.2-1.43.59L10.3 9.45l-7.72 7.72c-.78.78-.78 2.05 0 2.83L4 21.41c.39.39.9.59 1.41.59.51 0 1.02-.2 1.41-.59l7.78-7.78 2.81-2.81c.8-.78.8-2.07 0-2.86zM5.41 20L4 18.59l7.72-7.72 1.47 1.35L5.41 20z\"/>\n",
              "  </svg>\n",
              "      </button>\n",
              "      \n",
              "  <style>\n",
              "    .colab-df-container {\n",
              "      display:flex;\n",
              "      flex-wrap:wrap;\n",
              "      gap: 12px;\n",
              "    }\n",
              "\n",
              "    .colab-df-convert {\n",
              "      background-color: #E8F0FE;\n",
              "      border: none;\n",
              "      border-radius: 50%;\n",
              "      cursor: pointer;\n",
              "      display: none;\n",
              "      fill: #1967D2;\n",
              "      height: 32px;\n",
              "      padding: 0 0 0 0;\n",
              "      width: 32px;\n",
              "    }\n",
              "\n",
              "    .colab-df-convert:hover {\n",
              "      background-color: #E2EBFA;\n",
              "      box-shadow: 0px 1px 2px rgba(60, 64, 67, 0.3), 0px 1px 3px 1px rgba(60, 64, 67, 0.15);\n",
              "      fill: #174EA6;\n",
              "    }\n",
              "\n",
              "    [theme=dark] .colab-df-convert {\n",
              "      background-color: #3B4455;\n",
              "      fill: #D2E3FC;\n",
              "    }\n",
              "\n",
              "    [theme=dark] .colab-df-convert:hover {\n",
              "      background-color: #434B5C;\n",
              "      box-shadow: 0px 1px 3px 1px rgba(0, 0, 0, 0.15);\n",
              "      filter: drop-shadow(0px 1px 2px rgba(0, 0, 0, 0.3));\n",
              "      fill: #FFFFFF;\n",
              "    }\n",
              "  </style>\n",
              "\n",
              "      <script>\n",
              "        const buttonEl =\n",
              "          document.querySelector('#df-0c5650b7-14d9-4a6f-ac74-3740c09defba button.colab-df-convert');\n",
              "        buttonEl.style.display =\n",
              "          google.colab.kernel.accessAllowed ? 'block' : 'none';\n",
              "\n",
              "        async function convertToInteractive(key) {\n",
              "          const element = document.querySelector('#df-0c5650b7-14d9-4a6f-ac74-3740c09defba');\n",
              "          const dataTable =\n",
              "            await google.colab.kernel.invokeFunction('convertToInteractive',\n",
              "                                                     [key], {});\n",
              "          if (!dataTable) return;\n",
              "\n",
              "          const docLinkHtml = 'Like what you see? Visit the ' +\n",
              "            '<a target=\"_blank\" href=https://colab.research.google.com/notebooks/data_table.ipynb>data table notebook</a>'\n",
              "            + ' to learn more about interactive tables.';\n",
              "          element.innerHTML = '';\n",
              "          dataTable['output_type'] = 'display_data';\n",
              "          await google.colab.output.renderOutput(dataTable, element);\n",
              "          const docLink = document.createElement('div');\n",
              "          docLink.innerHTML = docLinkHtml;\n",
              "          element.appendChild(docLink);\n",
              "        }\n",
              "      </script>\n",
              "    </div>\n",
              "  </div>\n",
              "  "
            ]
          },
          "metadata": {},
          "execution_count": 3
        }
      ],
      "source": [
        "data.head(5)"
      ]
    },
    {
      "cell_type": "markdown",
      "metadata": {
        "id": "LxXQ-2m9dpwU"
      },
      "source": [
        "Tail - Last 5 rows of the Bank data"
      ]
    },
    {
      "cell_type": "code",
      "execution_count": 4,
      "metadata": {
        "colab": {
          "base_uri": "https://localhost:8080/",
          "height": 206
        },
        "id": "cfubrxA2drBb",
        "outputId": "a52e420d-0ea2-4c82-9888-e43a2d167b2b"
      },
      "outputs": [
        {
          "output_type": "execute_result",
          "data": {
            "text/plain": [
              "    customer_id  age       race          job marital_status  education  \\\n",
              "995       L0996   32     others  blue-collar        married  secondary   \n",
              "996       L0997   32    chinese   technician        married   tertiary   \n",
              "997       L0998   41     indian  blue-collar         single  secondary   \n",
              "998       L0999   34    chinese  blue-collar         single  secondary   \n",
              "999       L1000   40  bumiputra     services         single  secondary   \n",
              "\n",
              "     casa_balance  \n",
              "995           254  \n",
              "996          4654  \n",
              "997          -386  \n",
              "998          3043  \n",
              "999          1547  "
            ],
            "text/html": [
              "\n",
              "  <div id=\"df-34a0a174-b5a6-4932-bc62-4cdf5148b927\">\n",
              "    <div class=\"colab-df-container\">\n",
              "      <div>\n",
              "<style scoped>\n",
              "    .dataframe tbody tr th:only-of-type {\n",
              "        vertical-align: middle;\n",
              "    }\n",
              "\n",
              "    .dataframe tbody tr th {\n",
              "        vertical-align: top;\n",
              "    }\n",
              "\n",
              "    .dataframe thead th {\n",
              "        text-align: right;\n",
              "    }\n",
              "</style>\n",
              "<table border=\"1\" class=\"dataframe\">\n",
              "  <thead>\n",
              "    <tr style=\"text-align: right;\">\n",
              "      <th></th>\n",
              "      <th>customer_id</th>\n",
              "      <th>age</th>\n",
              "      <th>race</th>\n",
              "      <th>job</th>\n",
              "      <th>marital_status</th>\n",
              "      <th>education</th>\n",
              "      <th>casa_balance</th>\n",
              "    </tr>\n",
              "  </thead>\n",
              "  <tbody>\n",
              "    <tr>\n",
              "      <th>995</th>\n",
              "      <td>L0996</td>\n",
              "      <td>32</td>\n",
              "      <td>others</td>\n",
              "      <td>blue-collar</td>\n",
              "      <td>married</td>\n",
              "      <td>secondary</td>\n",
              "      <td>254</td>\n",
              "    </tr>\n",
              "    <tr>\n",
              "      <th>996</th>\n",
              "      <td>L0997</td>\n",
              "      <td>32</td>\n",
              "      <td>chinese</td>\n",
              "      <td>technician</td>\n",
              "      <td>married</td>\n",
              "      <td>tertiary</td>\n",
              "      <td>4654</td>\n",
              "    </tr>\n",
              "    <tr>\n",
              "      <th>997</th>\n",
              "      <td>L0998</td>\n",
              "      <td>41</td>\n",
              "      <td>indian</td>\n",
              "      <td>blue-collar</td>\n",
              "      <td>single</td>\n",
              "      <td>secondary</td>\n",
              "      <td>-386</td>\n",
              "    </tr>\n",
              "    <tr>\n",
              "      <th>998</th>\n",
              "      <td>L0999</td>\n",
              "      <td>34</td>\n",
              "      <td>chinese</td>\n",
              "      <td>blue-collar</td>\n",
              "      <td>single</td>\n",
              "      <td>secondary</td>\n",
              "      <td>3043</td>\n",
              "    </tr>\n",
              "    <tr>\n",
              "      <th>999</th>\n",
              "      <td>L1000</td>\n",
              "      <td>40</td>\n",
              "      <td>bumiputra</td>\n",
              "      <td>services</td>\n",
              "      <td>single</td>\n",
              "      <td>secondary</td>\n",
              "      <td>1547</td>\n",
              "    </tr>\n",
              "  </tbody>\n",
              "</table>\n",
              "</div>\n",
              "      <button class=\"colab-df-convert\" onclick=\"convertToInteractive('df-34a0a174-b5a6-4932-bc62-4cdf5148b927')\"\n",
              "              title=\"Convert this dataframe to an interactive table.\"\n",
              "              style=\"display:none;\">\n",
              "        \n",
              "  <svg xmlns=\"http://www.w3.org/2000/svg\" height=\"24px\"viewBox=\"0 0 24 24\"\n",
              "       width=\"24px\">\n",
              "    <path d=\"M0 0h24v24H0V0z\" fill=\"none\"/>\n",
              "    <path d=\"M18.56 5.44l.94 2.06.94-2.06 2.06-.94-2.06-.94-.94-2.06-.94 2.06-2.06.94zm-11 1L8.5 8.5l.94-2.06 2.06-.94-2.06-.94L8.5 2.5l-.94 2.06-2.06.94zm10 10l.94 2.06.94-2.06 2.06-.94-2.06-.94-.94-2.06-.94 2.06-2.06.94z\"/><path d=\"M17.41 7.96l-1.37-1.37c-.4-.4-.92-.59-1.43-.59-.52 0-1.04.2-1.43.59L10.3 9.45l-7.72 7.72c-.78.78-.78 2.05 0 2.83L4 21.41c.39.39.9.59 1.41.59.51 0 1.02-.2 1.41-.59l7.78-7.78 2.81-2.81c.8-.78.8-2.07 0-2.86zM5.41 20L4 18.59l7.72-7.72 1.47 1.35L5.41 20z\"/>\n",
              "  </svg>\n",
              "      </button>\n",
              "      \n",
              "  <style>\n",
              "    .colab-df-container {\n",
              "      display:flex;\n",
              "      flex-wrap:wrap;\n",
              "      gap: 12px;\n",
              "    }\n",
              "\n",
              "    .colab-df-convert {\n",
              "      background-color: #E8F0FE;\n",
              "      border: none;\n",
              "      border-radius: 50%;\n",
              "      cursor: pointer;\n",
              "      display: none;\n",
              "      fill: #1967D2;\n",
              "      height: 32px;\n",
              "      padding: 0 0 0 0;\n",
              "      width: 32px;\n",
              "    }\n",
              "\n",
              "    .colab-df-convert:hover {\n",
              "      background-color: #E2EBFA;\n",
              "      box-shadow: 0px 1px 2px rgba(60, 64, 67, 0.3), 0px 1px 3px 1px rgba(60, 64, 67, 0.15);\n",
              "      fill: #174EA6;\n",
              "    }\n",
              "\n",
              "    [theme=dark] .colab-df-convert {\n",
              "      background-color: #3B4455;\n",
              "      fill: #D2E3FC;\n",
              "    }\n",
              "\n",
              "    [theme=dark] .colab-df-convert:hover {\n",
              "      background-color: #434B5C;\n",
              "      box-shadow: 0px 1px 3px 1px rgba(0, 0, 0, 0.15);\n",
              "      filter: drop-shadow(0px 1px 2px rgba(0, 0, 0, 0.3));\n",
              "      fill: #FFFFFF;\n",
              "    }\n",
              "  </style>\n",
              "\n",
              "      <script>\n",
              "        const buttonEl =\n",
              "          document.querySelector('#df-34a0a174-b5a6-4932-bc62-4cdf5148b927 button.colab-df-convert');\n",
              "        buttonEl.style.display =\n",
              "          google.colab.kernel.accessAllowed ? 'block' : 'none';\n",
              "\n",
              "        async function convertToInteractive(key) {\n",
              "          const element = document.querySelector('#df-34a0a174-b5a6-4932-bc62-4cdf5148b927');\n",
              "          const dataTable =\n",
              "            await google.colab.kernel.invokeFunction('convertToInteractive',\n",
              "                                                     [key], {});\n",
              "          if (!dataTable) return;\n",
              "\n",
              "          const docLinkHtml = 'Like what you see? Visit the ' +\n",
              "            '<a target=\"_blank\" href=https://colab.research.google.com/notebooks/data_table.ipynb>data table notebook</a>'\n",
              "            + ' to learn more about interactive tables.';\n",
              "          element.innerHTML = '';\n",
              "          dataTable['output_type'] = 'display_data';\n",
              "          await google.colab.output.renderOutput(dataTable, element);\n",
              "          const docLink = document.createElement('div');\n",
              "          docLink.innerHTML = docLinkHtml;\n",
              "          element.appendChild(docLink);\n",
              "        }\n",
              "      </script>\n",
              "    </div>\n",
              "  </div>\n",
              "  "
            ]
          },
          "metadata": {},
          "execution_count": 4
        }
      ],
      "source": [
        "data.tail(5)"
      ]
    },
    {
      "cell_type": "markdown",
      "metadata": {
        "id": "kIvFCiJLdtQm"
      },
      "source": [
        "Shape - Number of rows and columns"
      ]
    },
    {
      "cell_type": "code",
      "execution_count": 5,
      "metadata": {
        "colab": {
          "base_uri": "https://localhost:8080/"
        },
        "id": "yYML9zPZdufe",
        "outputId": "deaf60ae-32b4-4a70-e2cc-7eb64186db2d"
      },
      "outputs": [
        {
          "output_type": "execute_result",
          "data": {
            "text/plain": [
              "(1000, 7)"
            ]
          },
          "metadata": {},
          "execution_count": 5
        }
      ],
      "source": [
        "data.shape"
      ]
    },
    {
      "cell_type": "markdown",
      "metadata": {
        "id": "WG0nQwM9d01Q"
      },
      "source": [
        "Info - Index, Datatype and Memory Information"
      ]
    },
    {
      "cell_type": "code",
      "execution_count": 6,
      "metadata": {
        "colab": {
          "base_uri": "https://localhost:8080/"
        },
        "id": "p4FTgPWFdz1b",
        "outputId": "736c8fbf-996e-4219-d610-21d3e5be83a5"
      },
      "outputs": [
        {
          "output_type": "stream",
          "name": "stdout",
          "text": [
            "<class 'pandas.core.frame.DataFrame'>\n",
            "RangeIndex: 1000 entries, 0 to 999\n",
            "Data columns (total 7 columns):\n",
            " #   Column          Non-Null Count  Dtype \n",
            "---  ------          --------------  ----- \n",
            " 0   customer_id     1000 non-null   object\n",
            " 1   age             1000 non-null   int64 \n",
            " 2   race            1000 non-null   object\n",
            " 3   job             1000 non-null   object\n",
            " 4   marital_status  1000 non-null   object\n",
            " 5   education       1000 non-null   object\n",
            " 6   casa_balance    1000 non-null   int64 \n",
            "dtypes: int64(2), object(5)\n",
            "memory usage: 54.8+ KB\n"
          ]
        }
      ],
      "source": [
        "data.info()"
      ]
    },
    {
      "cell_type": "markdown",
      "metadata": {
        "id": "_ZV9p3dXf0vy"
      },
      "source": [
        "Generate descriptive statistics of a DataFrame."
      ]
    },
    {
      "cell_type": "code",
      "execution_count": 7,
      "metadata": {
        "colab": {
          "base_uri": "https://localhost:8080/",
          "height": 300
        },
        "id": "SF3FPeDQedE8",
        "outputId": "498d12aa-458d-4cdf-a570-b4aecfb17f4a"
      },
      "outputs": [
        {
          "output_type": "execute_result",
          "data": {
            "text/plain": [
              "               age  casa_balance\n",
              "count  1000.000000    1000.00000\n",
              "mean     40.383000    1293.43500\n",
              "std       9.731444    2317.03486\n",
              "min      23.000000   -1129.00000\n",
              "25%      32.000000      94.00000\n",
              "50%      39.000000     518.00000\n",
              "75%      48.000000    1569.00000\n",
              "max      61.000000   34646.00000"
            ],
            "text/html": [
              "\n",
              "  <div id=\"df-c7745ac8-f263-4459-9a4f-ca3dfef0b1f7\">\n",
              "    <div class=\"colab-df-container\">\n",
              "      <div>\n",
              "<style scoped>\n",
              "    .dataframe tbody tr th:only-of-type {\n",
              "        vertical-align: middle;\n",
              "    }\n",
              "\n",
              "    .dataframe tbody tr th {\n",
              "        vertical-align: top;\n",
              "    }\n",
              "\n",
              "    .dataframe thead th {\n",
              "        text-align: right;\n",
              "    }\n",
              "</style>\n",
              "<table border=\"1\" class=\"dataframe\">\n",
              "  <thead>\n",
              "    <tr style=\"text-align: right;\">\n",
              "      <th></th>\n",
              "      <th>age</th>\n",
              "      <th>casa_balance</th>\n",
              "    </tr>\n",
              "  </thead>\n",
              "  <tbody>\n",
              "    <tr>\n",
              "      <th>count</th>\n",
              "      <td>1000.000000</td>\n",
              "      <td>1000.00000</td>\n",
              "    </tr>\n",
              "    <tr>\n",
              "      <th>mean</th>\n",
              "      <td>40.383000</td>\n",
              "      <td>1293.43500</td>\n",
              "    </tr>\n",
              "    <tr>\n",
              "      <th>std</th>\n",
              "      <td>9.731444</td>\n",
              "      <td>2317.03486</td>\n",
              "    </tr>\n",
              "    <tr>\n",
              "      <th>min</th>\n",
              "      <td>23.000000</td>\n",
              "      <td>-1129.00000</td>\n",
              "    </tr>\n",
              "    <tr>\n",
              "      <th>25%</th>\n",
              "      <td>32.000000</td>\n",
              "      <td>94.00000</td>\n",
              "    </tr>\n",
              "    <tr>\n",
              "      <th>50%</th>\n",
              "      <td>39.000000</td>\n",
              "      <td>518.00000</td>\n",
              "    </tr>\n",
              "    <tr>\n",
              "      <th>75%</th>\n",
              "      <td>48.000000</td>\n",
              "      <td>1569.00000</td>\n",
              "    </tr>\n",
              "    <tr>\n",
              "      <th>max</th>\n",
              "      <td>61.000000</td>\n",
              "      <td>34646.00000</td>\n",
              "    </tr>\n",
              "  </tbody>\n",
              "</table>\n",
              "</div>\n",
              "      <button class=\"colab-df-convert\" onclick=\"convertToInteractive('df-c7745ac8-f263-4459-9a4f-ca3dfef0b1f7')\"\n",
              "              title=\"Convert this dataframe to an interactive table.\"\n",
              "              style=\"display:none;\">\n",
              "        \n",
              "  <svg xmlns=\"http://www.w3.org/2000/svg\" height=\"24px\"viewBox=\"0 0 24 24\"\n",
              "       width=\"24px\">\n",
              "    <path d=\"M0 0h24v24H0V0z\" fill=\"none\"/>\n",
              "    <path d=\"M18.56 5.44l.94 2.06.94-2.06 2.06-.94-2.06-.94-.94-2.06-.94 2.06-2.06.94zm-11 1L8.5 8.5l.94-2.06 2.06-.94-2.06-.94L8.5 2.5l-.94 2.06-2.06.94zm10 10l.94 2.06.94-2.06 2.06-.94-2.06-.94-.94-2.06-.94 2.06-2.06.94z\"/><path d=\"M17.41 7.96l-1.37-1.37c-.4-.4-.92-.59-1.43-.59-.52 0-1.04.2-1.43.59L10.3 9.45l-7.72 7.72c-.78.78-.78 2.05 0 2.83L4 21.41c.39.39.9.59 1.41.59.51 0 1.02-.2 1.41-.59l7.78-7.78 2.81-2.81c.8-.78.8-2.07 0-2.86zM5.41 20L4 18.59l7.72-7.72 1.47 1.35L5.41 20z\"/>\n",
              "  </svg>\n",
              "      </button>\n",
              "      \n",
              "  <style>\n",
              "    .colab-df-container {\n",
              "      display:flex;\n",
              "      flex-wrap:wrap;\n",
              "      gap: 12px;\n",
              "    }\n",
              "\n",
              "    .colab-df-convert {\n",
              "      background-color: #E8F0FE;\n",
              "      border: none;\n",
              "      border-radius: 50%;\n",
              "      cursor: pointer;\n",
              "      display: none;\n",
              "      fill: #1967D2;\n",
              "      height: 32px;\n",
              "      padding: 0 0 0 0;\n",
              "      width: 32px;\n",
              "    }\n",
              "\n",
              "    .colab-df-convert:hover {\n",
              "      background-color: #E2EBFA;\n",
              "      box-shadow: 0px 1px 2px rgba(60, 64, 67, 0.3), 0px 1px 3px 1px rgba(60, 64, 67, 0.15);\n",
              "      fill: #174EA6;\n",
              "    }\n",
              "\n",
              "    [theme=dark] .colab-df-convert {\n",
              "      background-color: #3B4455;\n",
              "      fill: #D2E3FC;\n",
              "    }\n",
              "\n",
              "    [theme=dark] .colab-df-convert:hover {\n",
              "      background-color: #434B5C;\n",
              "      box-shadow: 0px 1px 3px 1px rgba(0, 0, 0, 0.15);\n",
              "      filter: drop-shadow(0px 1px 2px rgba(0, 0, 0, 0.3));\n",
              "      fill: #FFFFFF;\n",
              "    }\n",
              "  </style>\n",
              "\n",
              "      <script>\n",
              "        const buttonEl =\n",
              "          document.querySelector('#df-c7745ac8-f263-4459-9a4f-ca3dfef0b1f7 button.colab-df-convert');\n",
              "        buttonEl.style.display =\n",
              "          google.colab.kernel.accessAllowed ? 'block' : 'none';\n",
              "\n",
              "        async function convertToInteractive(key) {\n",
              "          const element = document.querySelector('#df-c7745ac8-f263-4459-9a4f-ca3dfef0b1f7');\n",
              "          const dataTable =\n",
              "            await google.colab.kernel.invokeFunction('convertToInteractive',\n",
              "                                                     [key], {});\n",
              "          if (!dataTable) return;\n",
              "\n",
              "          const docLinkHtml = 'Like what you see? Visit the ' +\n",
              "            '<a target=\"_blank\" href=https://colab.research.google.com/notebooks/data_table.ipynb>data table notebook</a>'\n",
              "            + ' to learn more about interactive tables.';\n",
              "          element.innerHTML = '';\n",
              "          dataTable['output_type'] = 'display_data';\n",
              "          await google.colab.output.renderOutput(dataTable, element);\n",
              "          const docLink = document.createElement('div');\n",
              "          docLink.innerHTML = docLinkHtml;\n",
              "          element.appendChild(docLink);\n",
              "        }\n",
              "      </script>\n",
              "    </div>\n",
              "  </div>\n",
              "  "
            ]
          },
          "metadata": {},
          "execution_count": 7
        }
      ],
      "source": [
        "data.describe()"
      ]
    },
    {
      "cell_type": "markdown",
      "metadata": {
        "id": "VTA6jEaeg2tJ"
      },
      "source": [
        "Count the occurrences of unique values, including NaN"
      ]
    },
    {
      "cell_type": "code",
      "execution_count": 8,
      "metadata": {
        "id": "IZHRr8JiegBP"
      },
      "outputs": [],
      "source": [
        "value_counts = data.value_counts(dropna=False)"
      ]
    },
    {
      "cell_type": "code",
      "execution_count": 9,
      "metadata": {
        "colab": {
          "base_uri": "https://localhost:8080/"
        },
        "id": "8ZbiIZtpgWcT",
        "outputId": "df4aeb61-5f6f-4702-bf65-b4abe8883a8c"
      },
      "outputs": [
        {
          "output_type": "stream",
          "name": "stdout",
          "text": [
            "customer_id  age  race       job          marital_status  education  casa_balance\n",
            "L0001        59   chinese    admin.       married         secondary  2343            1\n",
            "L0672        49   bumiputra  technician   single          secondary  1377            1\n",
            "L0659        36   chinese    management   divorced        tertiary   0               1\n",
            "L0660        55   others     retired      married         secondary  0               1\n",
            "L0661        43   indian     technician   married         tertiary   0               1\n",
            "                                                                                    ..\n",
            "L0339        54   bumiputra  services     married         unknown    386             1\n",
            "L0340        56   bumiputra  management   married         tertiary   0               1\n",
            "L0341        57   bumiputra  management   married         tertiary   9103            1\n",
            "L0342        29   bumiputra  blue-collar  single          secondary  908             1\n",
            "L1000        40   bumiputra  services     single          secondary  1547            1\n",
            "Length: 1000, dtype: int64\n"
          ]
        }
      ],
      "source": [
        "# Print the value counts\n",
        "print(value_counts)"
      ]
    },
    {
      "cell_type": "code",
      "execution_count": 10,
      "metadata": {
        "colab": {
          "base_uri": "https://localhost:8080/"
        },
        "id": "KtMogGfBgWup",
        "outputId": "3210b4d0-36e4-42b8-bc86-26a8daa7c99c"
      },
      "outputs": [
        {
          "output_type": "stream",
          "name": "stdout",
          "text": [
            "            customer_id  age  race    job  marital_status  education  \\\n",
            "-1129               NaN  NaN   NaN    NaN             NaN        NaN   \n",
            "-839                NaN  NaN   NaN    NaN             NaN        NaN   \n",
            "-824                NaN  NaN   NaN    NaN             NaN        NaN   \n",
            "-799                NaN  NaN   NaN    NaN             NaN        NaN   \n",
            "-754                NaN  NaN   NaN    NaN             NaN        NaN   \n",
            "...                 ...  ...   ...    ...             ...        ...   \n",
            "student             NaN  NaN   NaN    8.0             NaN        NaN   \n",
            "technician          NaN  NaN   NaN  183.0             NaN        NaN   \n",
            "tertiary            NaN  NaN   NaN    NaN             NaN      316.0   \n",
            "unemployed          NaN  NaN   NaN   31.0             NaN        NaN   \n",
            "unknown             NaN  NaN   NaN    3.0             NaN       31.0   \n",
            "\n",
            "            casa_balance  \n",
            "-1129                1.0  \n",
            "-839                 1.0  \n",
            "-824                 1.0  \n",
            "-799                 1.0  \n",
            "-754                 1.0  \n",
            "...                  ...  \n",
            "student              NaN  \n",
            "technician           NaN  \n",
            "tertiary             NaN  \n",
            "unemployed           NaN  \n",
            "unknown              NaN  \n",
            "\n",
            "[1824 rows x 7 columns]\n"
          ]
        }
      ],
      "source": [
        "# Apply value_counts to each column\n",
        "result = data.apply(pd.Series.value_counts)\n",
        "\n",
        "print(result)"
      ]
    },
    {
      "cell_type": "markdown",
      "metadata": {
        "id": "KDFOtGVxi9hH"
      },
      "source": [
        "# Selection"
      ]
    },
    {
      "cell_type": "code",
      "execution_count": 11,
      "metadata": {
        "colab": {
          "base_uri": "https://localhost:8080/"
        },
        "id": "XK-xZKnOgXMX",
        "outputId": "3c5dc3e0-e41c-4708-dc54-ca94bfd432b7"
      },
      "outputs": [
        {
          "output_type": "stream",
          "name": "stdout",
          "text": [
            "0      secondary\n",
            "1      secondary\n",
            "2      secondary\n",
            "3      secondary\n",
            "4       tertiary\n",
            "         ...    \n",
            "995    secondary\n",
            "996     tertiary\n",
            "997    secondary\n",
            "998    secondary\n",
            "999    secondary\n",
            "Name: education, Length: 1000, dtype: object\n"
          ]
        }
      ],
      "source": [
        "# Accessing a column as a Series\n",
        "edu_series = data['education']\n",
        "print(edu_series)"
      ]
    },
    {
      "cell_type": "code",
      "execution_count": 12,
      "metadata": {
        "colab": {
          "base_uri": "https://localhost:8080/"
        },
        "id": "a3-LEiPmgXeq",
        "outputId": "95d2853b-fb32-4603-f1fe-a22f62dd13c6"
      },
      "outputs": [
        {
          "output_type": "stream",
          "name": "stdout",
          "text": [
            "     education  age\n",
            "0    secondary   59\n",
            "1    secondary   56\n",
            "2    secondary   41\n",
            "3    secondary   55\n",
            "4     tertiary   54\n",
            "..         ...  ...\n",
            "995  secondary   32\n",
            "996   tertiary   32\n",
            "997  secondary   41\n",
            "998  secondary   34\n",
            "999  secondary   40\n",
            "\n",
            "[1000 rows x 2 columns]\n"
          ]
        }
      ],
      "source": [
        "# Accessing multiple columns as a new DataFrame\n",
        "subset_data = data[['education', 'age']]\n",
        "print(subset_data)"
      ]
    },
    {
      "cell_type": "code",
      "execution_count": 13,
      "metadata": {
        "colab": {
          "base_uri": "https://localhost:8080/"
        },
        "id": "0DYmcv-AkqGu",
        "outputId": "e9c5cbec-acba-4b3b-c91e-035871393e8e"
      },
      "outputs": [
        {
          "output_type": "stream",
          "name": "stdout",
          "text": [
            "customer_id           L0001\n",
            "age                      59\n",
            "race                chinese\n",
            "job                  admin.\n",
            "marital_status      married\n",
            "education         secondary\n",
            "casa_balance           2343\n",
            "Name: 0, dtype: object\n"
          ]
        }
      ],
      "source": [
        "# Selecting a row by position\n",
        "first_row = data.iloc[0]\n",
        "print(first_row)"
      ]
    },
    {
      "cell_type": "code",
      "execution_count": 14,
      "metadata": {
        "colab": {
          "base_uri": "https://localhost:8080/"
        },
        "id": "KexEwfcikqX7",
        "outputId": "b4ccda12-7e39-47c9-dcf5-1525b94a0bfc"
      },
      "outputs": [
        {
          "output_type": "stream",
          "name": "stdout",
          "text": [
            "  customer_id  age     race         job marital_status  education  \\\n",
            "0       L0001   59  chinese      admin.        married  secondary   \n",
            "1       L0002   56  chinese      admin.        married  secondary   \n",
            "2       L0003   41  chinese  technician        married  secondary   \n",
            "\n",
            "   casa_balance  \n",
            "0          2343  \n",
            "1            45  \n",
            "2          1270  \n"
          ]
        }
      ],
      "source": [
        "# Selecting multiple row by position\n",
        "first_three_row = data.iloc[0:3]\n",
        "print(first_three_row)"
      ]
    },
    {
      "cell_type": "code",
      "execution_count": 16,
      "metadata": {
        "id": "L98ZHx9xq_Qy",
        "colab": {
          "base_uri": "https://localhost:8080/"
        },
        "outputId": "03a75210-a48a-4fab-c5bd-84d7115ddda9"
      },
      "outputs": [
        {
          "output_type": "stream",
          "name": "stdout",
          "text": [
            "blue-collar      226\n",
            "management       221\n",
            "technician       183\n",
            "admin.            96\n",
            "services          82\n",
            "entrepreneur      45\n",
            "retired           44\n",
            "self-employed     36\n",
            "unemployed        31\n",
            "housemaid         25\n",
            "student            8\n",
            "unknown            3\n",
            "Name: job, dtype: int64\n"
          ]
        }
      ],
      "source": [
        "# Count all jobs by categories\n",
        "job_status = data[\"job\"]\n",
        "print(job_status.value_counts())"
      ]
    },
    {
      "cell_type": "code",
      "source": [
        "# Count all marital_status by categories\n",
        "marital_count = data[\"marital_status\"]\n",
        "print(marital_count.value_counts())"
      ],
      "metadata": {
        "colab": {
          "base_uri": "https://localhost:8080/"
        },
        "id": "PW4D-e8dc9he",
        "outputId": "7e46694a-cf7a-4f93-e347-10530ef329d2"
      },
      "execution_count": 17,
      "outputs": [
        {
          "output_type": "stream",
          "name": "stdout",
          "text": [
            "married     541\n",
            "single      291\n",
            "divorced    168\n",
            "Name: marital_status, dtype: int64\n"
          ]
        }
      ]
    },
    {
      "cell_type": "code",
      "source": [
        "# Count all education by categories\n",
        "education_level = data[\"education\"]\n",
        "print(education_level.value_counts())"
      ],
      "metadata": {
        "colab": {
          "base_uri": "https://localhost:8080/"
        },
        "id": "vqI0P0CFdfR0",
        "outputId": "546d900f-3cb2-4c7f-dfd2-e1b19d0c0a72"
      },
      "execution_count": 18,
      "outputs": [
        {
          "output_type": "stream",
          "name": "stdout",
          "text": [
            "secondary    512\n",
            "tertiary     316\n",
            "primary      141\n",
            "unknown       31\n",
            "Name: education, dtype: int64\n"
          ]
        }
      ]
    },
    {
      "cell_type": "markdown",
      "metadata": {
        "id": "_7XqTRLPq-90"
      },
      "source": [
        "# Data Cleaning"
      ]
    },
    {
      "cell_type": "code",
      "execution_count": 19,
      "metadata": {
        "colab": {
          "base_uri": "https://localhost:8080/"
        },
        "id": "vVGpfGutkq-2",
        "outputId": "45541e67-64f0-4d48-eb1e-47dbdcd4d31c"
      },
      "outputs": [
        {
          "output_type": "stream",
          "name": "stdout",
          "text": [
            "    customer_id  age       race          job marital_status  education  \\\n",
            "0         L0001   59    chinese       admin.        married  secondary   \n",
            "1         L0002   56    chinese       admin.        married  secondary   \n",
            "2         L0003   41    chinese   technician        married  secondary   \n",
            "3         L0004   55  bumiputra     services        married  secondary   \n",
            "4         L0005   54    chinese       admin.        married   tertiary   \n",
            "..          ...  ...        ...          ...            ...        ...   \n",
            "995       L0996   32     others  blue-collar        married  secondary   \n",
            "996       L0997   32    chinese   technician        married   tertiary   \n",
            "997       L0998   41     indian  blue-collar         single  secondary   \n",
            "998       L0999   34    chinese  blue-collar         single  secondary   \n",
            "999       L1000   40  bumiputra     services         single  secondary   \n",
            "\n",
            "     casa_balance  \n",
            "0            2343  \n",
            "1              45  \n",
            "2            1270  \n",
            "3            2476  \n",
            "4             184  \n",
            "..            ...  \n",
            "995           254  \n",
            "996          4654  \n",
            "997          -386  \n",
            "998          3043  \n",
            "999          1547  \n",
            "\n",
            "[1000 rows x 7 columns]\n"
          ]
        }
      ],
      "source": [
        "# Rename specific columns\n",
        "data_rename = data.rename(columns={'job': 'Position', 'age': 'NewAge'})\n",
        "\n",
        "print(data)"
      ]
    },
    {
      "cell_type": "code",
      "execution_count": 20,
      "metadata": {
        "colab": {
          "base_uri": "https://localhost:8080/"
        },
        "id": "EIluk59zkrM4",
        "outputId": "a6815d73-d991-4064-f789-b10e30b3dd1e"
      },
      "outputs": [
        {
          "output_type": "stream",
          "name": "stdout",
          "text": [
            "     customer_id    age   race    job  marital_status  education  casa_balance\n",
            "0          False  False  False  False           False      False         False\n",
            "1          False  False  False  False           False      False         False\n",
            "2          False  False  False  False           False      False         False\n",
            "3          False  False  False  False           False      False         False\n",
            "4          False  False  False  False           False      False         False\n",
            "..           ...    ...    ...    ...             ...        ...           ...\n",
            "995        False  False  False  False           False      False         False\n",
            "996        False  False  False  False           False      False         False\n",
            "997        False  False  False  False           False      False         False\n",
            "998        False  False  False  False           False      False         False\n",
            "999        False  False  False  False           False      False         False\n",
            "\n",
            "[1000 rows x 7 columns]\n"
          ]
        }
      ],
      "source": [
        "# Check for null values\n",
        "is_null_array = pd.isnull(data)\n",
        "\n",
        "print(is_null_array)"
      ]
    },
    {
      "cell_type": "code",
      "execution_count": 21,
      "metadata": {
        "colab": {
          "base_uri": "https://localhost:8080/"
        },
        "id": "3Di6kRPH3h59",
        "outputId": "32262f50-b119-4318-ca17-4146fb1c1294"
      },
      "outputs": [
        {
          "output_type": "stream",
          "name": "stdout",
          "text": [
            "     customer_id   age  race   job  marital_status  education  casa_balance\n",
            "0           True  True  True  True            True       True          True\n",
            "1           True  True  True  True            True       True          True\n",
            "2           True  True  True  True            True       True          True\n",
            "3           True  True  True  True            True       True          True\n",
            "4           True  True  True  True            True       True          True\n",
            "..           ...   ...   ...   ...             ...        ...           ...\n",
            "995         True  True  True  True            True       True          True\n",
            "996         True  True  True  True            True       True          True\n",
            "997         True  True  True  True            True       True          True\n",
            "998         True  True  True  True            True       True          True\n",
            "999         True  True  True  True            True       True          True\n",
            "\n",
            "[1000 rows x 7 columns]\n"
          ]
        }
      ],
      "source": [
        "# Check for non-null values\n",
        "not_null_array = pd.notnull(data)\n",
        "\n",
        "print(not_null_array)"
      ]
    },
    {
      "cell_type": "code",
      "execution_count": 22,
      "metadata": {
        "colab": {
          "base_uri": "https://localhost:8080/"
        },
        "id": "p60ApjqG3iMu",
        "outputId": "68b04564-27be-4a86-fc71-f74b5c56ffb0"
      },
      "outputs": [
        {
          "output_type": "stream",
          "name": "stdout",
          "text": [
            "    customer_id  age       race          job marital_status  education  \\\n",
            "0         L0001   59    chinese       admin.        married  secondary   \n",
            "1         L0002   56    chinese       admin.        married  secondary   \n",
            "2         L0003   41    chinese   technician        married  secondary   \n",
            "3         L0004   55  bumiputra     services        married  secondary   \n",
            "4         L0005   54    chinese       admin.        married   tertiary   \n",
            "..          ...  ...        ...          ...            ...        ...   \n",
            "995       L0996   32     others  blue-collar        married  secondary   \n",
            "996       L0997   32    chinese   technician        married   tertiary   \n",
            "997       L0998   41     indian  blue-collar         single  secondary   \n",
            "998       L0999   34    chinese  blue-collar         single  secondary   \n",
            "999       L1000   40  bumiputra     services         single  secondary   \n",
            "\n",
            "     casa_balance  \n",
            "0            2343  \n",
            "1              45  \n",
            "2            1270  \n",
            "3            2476  \n",
            "4             184  \n",
            "..            ...  \n",
            "995           254  \n",
            "996          4654  \n",
            "997          -386  \n",
            "998          3043  \n",
            "999          1547  \n",
            "\n",
            "[1000 rows x 7 columns]\n"
          ]
        }
      ],
      "source": [
        "# Drop rows with null values\n",
        "data_dropped_rows = data.dropna()\n",
        "\n",
        "print(data_dropped_rows)"
      ]
    },
    {
      "cell_type": "code",
      "execution_count": 23,
      "metadata": {
        "colab": {
          "base_uri": "https://localhost:8080/"
        },
        "id": "-7ZSsu1k3idV",
        "outputId": "544bd3f7-fb60-40ab-dcb8-aa4156d223b9"
      },
      "outputs": [
        {
          "output_type": "stream",
          "name": "stdout",
          "text": [
            "\n",
            "DataFrame after dropping columns with null values:\n",
            "    customer_id  age       race          job marital_status  education  \\\n",
            "0         L0001   59    chinese       admin.        married  secondary   \n",
            "1         L0002   56    chinese       admin.        married  secondary   \n",
            "2         L0003   41    chinese   technician        married  secondary   \n",
            "3         L0004   55  bumiputra     services        married  secondary   \n",
            "4         L0005   54    chinese       admin.        married   tertiary   \n",
            "..          ...  ...        ...          ...            ...        ...   \n",
            "995       L0996   32     others  blue-collar        married  secondary   \n",
            "996       L0997   32    chinese   technician        married   tertiary   \n",
            "997       L0998   41     indian  blue-collar         single  secondary   \n",
            "998       L0999   34    chinese  blue-collar         single  secondary   \n",
            "999       L1000   40  bumiputra     services         single  secondary   \n",
            "\n",
            "     casa_balance  \n",
            "0            2343  \n",
            "1              45  \n",
            "2            1270  \n",
            "3            2476  \n",
            "4             184  \n",
            "..            ...  \n",
            "995           254  \n",
            "996          4654  \n",
            "997          -386  \n",
            "998          3043  \n",
            "999          1547  \n",
            "\n",
            "[1000 rows x 7 columns]\n"
          ]
        }
      ],
      "source": [
        "# Drop columns with null values\n",
        "data_dropped_columns = data.dropna(axis=1)\n",
        "\n",
        "# Display the modified DataFrame\n",
        "print(\"\\nDataFrame after dropping columns with null values:\")\n",
        "print(data_dropped_columns)"
      ]
    },
    {
      "cell_type": "code",
      "execution_count": 24,
      "metadata": {
        "id": "vFFtbcLF3iux",
        "colab": {
          "base_uri": "https://localhost:8080/"
        },
        "outputId": "27658f06-0fb6-47ec-fe3d-96012e59b61a"
      },
      "outputs": [
        {
          "output_type": "stream",
          "name": "stdout",
          "text": [
            "    customer_id  age       race          job marital_status  education  \\\n",
            "0         L0001   59    chinese       admin.        married  secondary   \n",
            "1         L0002   56    chinese       admin.        married  secondary   \n",
            "2         L0003   41    chinese   technician        married  secondary   \n",
            "3         L0004   55  bumiputra     services        married  secondary   \n",
            "4         L0005   54    chinese       admin.        married   tertiary   \n",
            "..          ...  ...        ...          ...            ...        ...   \n",
            "995       L0996   32     others  blue-collar        married  secondary   \n",
            "996       L0997   32    chinese   technician        married   tertiary   \n",
            "997       L0998   41     indian  blue-collar         single  secondary   \n",
            "998       L0999   34    chinese  blue-collar         single  secondary   \n",
            "999       L1000   40  bumiputra     services         single  secondary   \n",
            "\n",
            "     casa_balance  \n",
            "0            2343  \n",
            "1              45  \n",
            "2            1270  \n",
            "3            2476  \n",
            "4             184  \n",
            "..            ...  \n",
            "995           254  \n",
            "996          4654  \n",
            "997          -386  \n",
            "998          3043  \n",
            "999          1547  \n",
            "\n",
            "[1000 rows x 7 columns]\n"
          ]
        }
      ],
      "source": [
        "# Drop rows with less than 3 non-null values\n",
        "n = 1\n",
        "drop_ten = data.dropna(axis=0, thresh=n)\n",
        "\n",
        "print(drop_ten)"
      ]
    },
    {
      "cell_type": "markdown",
      "metadata": {
        "id": "nkWfsr9OxDmc"
      },
      "source": [
        "\n",
        "# Filter, Sort & Groupby"
      ]
    },
    {
      "cell_type": "code",
      "execution_count": 25,
      "metadata": {
        "id": "P0GsrLJ-xIwd",
        "colab": {
          "base_uri": "https://localhost:8080/"
        },
        "outputId": "afe0e152-e81d-4e34-ae09-589ff9f6072c"
      },
      "outputs": [
        {
          "output_type": "stream",
          "name": "stdout",
          "text": [
            "    customer_id  age       race          job marital_status  education  \\\n",
            "0         L0001   59    chinese       admin.        married  secondary   \n",
            "1         L0002   56    chinese       admin.        married  secondary   \n",
            "2         L0003   41    chinese   technician        married  secondary   \n",
            "3         L0004   55  bumiputra     services        married  secondary   \n",
            "4         L0005   54    chinese       admin.        married   tertiary   \n",
            "..          ...  ...        ...          ...            ...        ...   \n",
            "995       L0996   32     others  blue-collar        married  secondary   \n",
            "996       L0997   32    chinese   technician        married   tertiary   \n",
            "997       L0998   41     indian  blue-collar         single  secondary   \n",
            "998       L0999   34    chinese  blue-collar         single  secondary   \n",
            "999       L1000   40  bumiputra     services         single  secondary   \n",
            "\n",
            "     casa_balance  \n",
            "0            2343  \n",
            "1              45  \n",
            "2            1270  \n",
            "3            2476  \n",
            "4             184  \n",
            "..            ...  \n",
            "995           254  \n",
            "996          4654  \n",
            "997             0  \n",
            "998          3043  \n",
            "999          1547  \n",
            "\n",
            "[1000 rows x 7 columns]\n"
          ]
        }
      ],
      "source": [
        "# Replace negative values with zero\n",
        "data['casa_balance'] = data['casa_balance'].mask(data['casa_balance'].lt(0), 0)\n",
        "\n",
        "# Print the updated DataFrame\n",
        "print(data)"
      ]
    },
    {
      "cell_type": "code",
      "execution_count": 27,
      "metadata": {
        "id": "6DQJP9VCxJPC",
        "colab": {
          "base_uri": "https://localhost:8080/"
        },
        "outputId": "3736e5f8-2415-46cf-aec2-43db7e9ecf99"
      },
      "outputs": [
        {
          "output_type": "stream",
          "name": "stdout",
          "text": [
            "    customer_id  age       race           job marital_status  education  \\\n",
            "403       L0404   43  bumiputra   blue-collar         single    primary   \n",
            "910       L0911   35    chinese    management       divorced   tertiary   \n",
            "328       L0329   40    chinese  entrepreneur        married   tertiary   \n",
            "333       L0334   25     others   blue-collar         single  secondary   \n",
            "336       L0337   26  bumiputra   blue-collar         single  secondary   \n",
            "..          ...  ...        ...           ...            ...        ...   \n",
            "170       L0171   27  bumiputra    management         single   tertiary   \n",
            "692       L0693   42  bumiputra    technician        married   tertiary   \n",
            "185       L0186   46  bumiputra    management       divorced   tertiary   \n",
            "861       L0862   60    chinese       unknown        married    unknown   \n",
            "771       L0772   32    chinese    technician         single   tertiary   \n",
            "\n",
            "     casa_balance  \n",
            "403             0  \n",
            "910             0  \n",
            "328             0  \n",
            "333             0  \n",
            "336             0  \n",
            "..            ...  \n",
            "170         12956  \n",
            "692         14282  \n",
            "185         14481  \n",
            "861         17297  \n",
            "771         34646  \n",
            "\n",
            "[1000 rows x 7 columns]\n"
          ]
        }
      ],
      "source": [
        "#Sort values by col1 in ascending order\n",
        "data_sort = data.sort_values(\"casa_balance\")\n",
        "print(data_sort)"
      ]
    },
    {
      "cell_type": "code",
      "execution_count": 29,
      "metadata": {
        "id": "76_2UMpixJm3",
        "colab": {
          "base_uri": "https://localhost:8080/"
        },
        "outputId": "4f065807-e741-4626-8b35-c4bdf4effb65"
      },
      "outputs": [
        {
          "output_type": "stream",
          "name": "stdout",
          "text": [
            "    customer_id  age       race           job marital_status  education  \\\n",
            "682       L0683   61    chinese       retired        married  secondary   \n",
            "813       L0814   61    chinese    management        married  secondary   \n",
            "827       L0828   60  bumiputra        admin.        married   tertiary   \n",
            "747       L0748   60    chinese       retired        married  secondary   \n",
            "626       L0627   60     others       retired       divorced  secondary   \n",
            "..          ...  ...        ...           ...            ...        ...   \n",
            "294       L0295   24  bumiputra   blue-collar         single  secondary   \n",
            "39        L0040   23    chinese  entrepreneur         single    primary   \n",
            "160       L0161   23  bumiputra      services         single  secondary   \n",
            "230       L0231   23  bumiputra   blue-collar         single  secondary   \n",
            "220       L0221   23    chinese      services         single  secondary   \n",
            "\n",
            "     casa_balance  \n",
            "682            77  \n",
            "813           985  \n",
            "827          1614  \n",
            "747          2722  \n",
            "626          1091  \n",
            "..            ...  \n",
            "294          -203  \n",
            "39              4  \n",
            "160           665  \n",
            "230           492  \n",
            "220           425  \n",
            "\n",
            "[1000 rows x 7 columns]\n"
          ]
        }
      ],
      "source": [
        "#Sort values by col2 in descending order\n",
        "descending_age = data_dropped_rows.sort_values(\"age\",ascending=False)\n",
        "print(descending_age)"
      ]
    },
    {
      "cell_type": "code",
      "execution_count": 30,
      "metadata": {
        "id": "oPJ8i4_4xJ72",
        "colab": {
          "base_uri": "https://localhost:8080/"
        },
        "outputId": "c4fc48b3-9266-4eb8-9235-96d637b452e5"
      },
      "outputs": [
        {
          "output_type": "stream",
          "name": "stdout",
          "text": [
            "    customer_id  age       race           job marital_status  education  \\\n",
            "160       L0161   23  bumiputra      services         single  secondary   \n",
            "230       L0231   23  bumiputra   blue-collar         single  secondary   \n",
            "220       L0221   23    chinese      services         single  secondary   \n",
            "39        L0040   23    chinese  entrepreneur         single    primary   \n",
            "348       L0349   24  bumiputra    management        married  secondary   \n",
            "..          ...  ...        ...           ...            ...        ...   \n",
            "168       L0169   60     others   blue-collar       divorced  secondary   \n",
            "661       L0662   60     others    management       divorced  secondary   \n",
            "706       L0707   60  bumiputra    management        married   tertiary   \n",
            "813       L0814   61    chinese    management        married  secondary   \n",
            "682       L0683   61    chinese       retired        married  secondary   \n",
            "\n",
            "     casa_balance  \n",
            "160           665  \n",
            "230           492  \n",
            "220           425  \n",
            "39              4  \n",
            "348           867  \n",
            "..            ...  \n",
            "168             0  \n",
            "661             0  \n",
            "706             0  \n",
            "813           985  \n",
            "682            77  \n",
            "\n",
            "[1000 rows x 7 columns]\n"
          ]
        }
      ],
      "source": [
        "#Sort values by col1 in ascending order then col2 in descending order\n",
        "data_age_casa = data.sort_values([\"age\",\"casa_balance\"],ascending=[True,False])\n",
        "print(data_age_casa)"
      ]
    },
    {
      "cell_type": "code",
      "source": [
        "#Returns a groupby object for values from one column\n",
        "data_race = data.groupby(\"race\")\n",
        "group_counts = data_race.size()\n",
        "print(group_counts)"
      ],
      "metadata": {
        "colab": {
          "base_uri": "https://localhost:8080/"
        },
        "id": "29STFdqU6Whh",
        "outputId": "e417fd22-b4eb-4115-ab43-b3978552d15f"
      },
      "execution_count": 32,
      "outputs": [
        {
          "output_type": "stream",
          "name": "stdout",
          "text": [
            "race\n",
            "bumiputra    501\n",
            "chinese      363\n",
            "indian        61\n",
            "others        75\n",
            "dtype: int64\n"
          ]
        }
      ]
    },
    {
      "cell_type": "code",
      "execution_count": 33,
      "metadata": {
        "id": "ShC116NmE47V",
        "colab": {
          "base_uri": "https://localhost:8080/"
        },
        "outputId": "f2d7f18e-3854-4190-a2c7-728b64a6eb8a"
      },
      "outputs": [
        {
          "output_type": "stream",
          "name": "stdout",
          "text": [
            "job            education\n",
            "admin.         primary                        chinesebumiputrabumiputraindian\n",
            "               secondary    chinesechinesebumiputrachinesebumiputraothersc...\n",
            "               tertiary     chinesechinesechinesebumiputrachinesebumiputra...\n",
            "               unknown                                                chinese\n",
            "blue-collar    primary      indianindianchinesechinesechinesebumiputrachin...\n",
            "               secondary    chinesebumiputrachinesebumiputrabumiputrachine...\n",
            "               tertiary            chineseindianchinesebumiputraotherschinese\n",
            "               unknown      bumiputrachinesechinesechinesechinesechinesech...\n",
            "entrepreneur   primary                        chineseothersbumiputrabumiputra\n",
            "               secondary    bumiputrabumiputrachinesebumiputrachinesebumip...\n",
            "               tertiary     bumiputrachinesebumiputrachinesechinesechinese...\n",
            "               unknown               otherschinesebumiputrabumiputrabumiputra\n",
            "housemaid      primary      chinesechinesebumiputraindianbumiputrabumiputr...\n",
            "               secondary    chinesebumiputrabumiputrabumiputrabumiputrachi...\n",
            "               tertiary                              bumiputraothersbumiputra\n",
            "management     primary                                         chinesechinese\n",
            "               secondary    bumiputrachinesechinesechinesebumiputrachinese...\n",
            "               tertiary     chinesebumiputraothersindianbumiputrachinesebu...\n",
            "               unknown                                 bumiputrachineseothers\n",
            "retired        primary      bumiputrachineseindianchinesebumiputraothersbu...\n",
            "               secondary    chinesebumiputrabumiputrabumiputrabumiputrabum...\n",
            "               tertiary     bumiputraindianbumiputrabumiputrabumiputrachin...\n",
            "               unknown                               bumiputraindianbumiputra\n",
            "self-employed  primary                                              bumiputra\n",
            "               secondary    chinesechinesebumiputrabumiputrachinesechinese...\n",
            "               tertiary     bumiputrabumiputrabumiputrabumiputrachinesechi...\n",
            "services       primary      bumiputraindianbumiputrachinesebumiputrabumipu...\n",
            "               secondary    bumiputrachinesebumiputrabumiputrabumiputrabum...\n",
            "               tertiary                                  indianchinesechinese\n",
            "               unknown      bumiputrabumiputrachinesebumiputrabumiputrachi...\n",
            "student        primary                                              bumiputra\n",
            "               secondary                bumiputraothersbumiputrachineseothers\n",
            "               tertiary                                        chinesechinese\n",
            "technician     primary               bumiputrachineseothersbumiputrabumiputra\n",
            "               secondary    chinesechinesechinesechinesebumiputrabumiputra...\n",
            "               tertiary     bumiputrabumiputrabumiputrabumiputrachineseind...\n",
            "               unknown                                              bumiputra\n",
            "unemployed     primary      indianbumiputrabumiputraothersindianchineseothers\n",
            "               secondary    othersbumiputraindianchineseindianindianchines...\n",
            "               tertiary             chinesebumiputrachinesebumiputrabumiputra\n",
            "               unknown                                                chinese\n",
            "unknown        primary                                                 others\n",
            "               unknown                                       bumiputrachinese\n",
            "Name: race, dtype: object\n"
          ]
        }
      ],
      "source": [
        "#Returns groupby object for values from multiple columns\n",
        "grouped_data = data.groupby(['job', 'education'])\n",
        "sum_race = grouped_data['race'].sum()\n",
        "print(sum_race)"
      ]
    },
    {
      "cell_type": "code",
      "execution_count": 36,
      "metadata": {
        "id": "rUGmyNEXE5Us",
        "colab": {
          "base_uri": "https://localhost:8080/"
        },
        "outputId": "4a660948-d267-4d32-b222-0c7edd834658"
      },
      "outputs": [
        {
          "output_type": "stream",
          "name": "stdout",
          "text": [
            "age\n",
            "23     396.500000\n",
            "24     490.250000\n",
            "25     737.823529\n",
            "26     571.080000\n",
            "27    1103.296296\n",
            "28     773.916667\n",
            "29     923.950000\n",
            "30    1476.936170\n",
            "31     490.866667\n",
            "32    2219.545455\n",
            "33    1069.710526\n",
            "34    1499.424242\n",
            "35    1311.549020\n",
            "36    1184.931818\n",
            "37    1261.676471\n",
            "38    1424.857143\n",
            "39    1930.107143\n",
            "40     993.388889\n",
            "41    1109.975000\n",
            "42    1772.640000\n",
            "43     749.571429\n",
            "44    1321.357143\n",
            "45    1008.217391\n",
            "46    1514.629630\n",
            "47    1876.160000\n",
            "48     977.055556\n",
            "49    1037.269231\n",
            "50    2117.888889\n",
            "51    1266.730769\n",
            "52    2326.352941\n",
            "53    1259.888889\n",
            "54     994.000000\n",
            "55    1413.681818\n",
            "56    1273.944444\n",
            "57    2196.875000\n",
            "58    2313.368421\n",
            "59    1078.739130\n",
            "60    2178.000000\n",
            "61     531.000000\n",
            "Name: casa_balance, dtype: float64\n"
          ]
        }
      ],
      "source": [
        "#Returns the mean of the values in casa_balance, grouped by the values in age\n",
        "mean_age = data.groupby('age')['casa_balance'].mean()\n",
        "print(mean_age)"
      ]
    },
    {
      "cell_type": "markdown",
      "metadata": {
        "id": "yu-Gu50PxK0I"
      },
      "source": [
        "# Join & Combine"
      ]
    },
    {
      "cell_type": "code",
      "source": [
        "# Reading the CSV file and creating the DataFrame\n",
        "data1 = pd.read_csv(\"Part2_RHBTouchHeart.csv\")"
      ],
      "metadata": {
        "id": "1YeXsIBPlDR7"
      },
      "execution_count": 37,
      "outputs": []
    },
    {
      "cell_type": "code",
      "source": [
        "data1.head(5)"
      ],
      "metadata": {
        "colab": {
          "base_uri": "https://localhost:8080/",
          "height": 206
        },
        "id": "tijIn6MZ7fKY",
        "outputId": "942e646a-2d15-43a7-88f3-78468ec77ff6"
      },
      "execution_count": 38,
      "outputs": [
        {
          "output_type": "execute_result",
          "data": {
            "text/plain": [
              "  customer_id  creditcard  car_loan  personal_loan  housing_loan\n",
              "0       L0001           1         1              1             1\n",
              "1       L0002           1         0              1             0\n",
              "2       L0003           1         1              1             1\n",
              "3       L0004           1         1              1             1\n",
              "4       L0005           1         1              1             0"
            ],
            "text/html": [
              "\n",
              "  <div id=\"df-7b4bbef1-f8d5-4e99-9e85-a3b97092d895\">\n",
              "    <div class=\"colab-df-container\">\n",
              "      <div>\n",
              "<style scoped>\n",
              "    .dataframe tbody tr th:only-of-type {\n",
              "        vertical-align: middle;\n",
              "    }\n",
              "\n",
              "    .dataframe tbody tr th {\n",
              "        vertical-align: top;\n",
              "    }\n",
              "\n",
              "    .dataframe thead th {\n",
              "        text-align: right;\n",
              "    }\n",
              "</style>\n",
              "<table border=\"1\" class=\"dataframe\">\n",
              "  <thead>\n",
              "    <tr style=\"text-align: right;\">\n",
              "      <th></th>\n",
              "      <th>customer_id</th>\n",
              "      <th>creditcard</th>\n",
              "      <th>car_loan</th>\n",
              "      <th>personal_loan</th>\n",
              "      <th>housing_loan</th>\n",
              "    </tr>\n",
              "  </thead>\n",
              "  <tbody>\n",
              "    <tr>\n",
              "      <th>0</th>\n",
              "      <td>L0001</td>\n",
              "      <td>1</td>\n",
              "      <td>1</td>\n",
              "      <td>1</td>\n",
              "      <td>1</td>\n",
              "    </tr>\n",
              "    <tr>\n",
              "      <th>1</th>\n",
              "      <td>L0002</td>\n",
              "      <td>1</td>\n",
              "      <td>0</td>\n",
              "      <td>1</td>\n",
              "      <td>0</td>\n",
              "    </tr>\n",
              "    <tr>\n",
              "      <th>2</th>\n",
              "      <td>L0003</td>\n",
              "      <td>1</td>\n",
              "      <td>1</td>\n",
              "      <td>1</td>\n",
              "      <td>1</td>\n",
              "    </tr>\n",
              "    <tr>\n",
              "      <th>3</th>\n",
              "      <td>L0004</td>\n",
              "      <td>1</td>\n",
              "      <td>1</td>\n",
              "      <td>1</td>\n",
              "      <td>1</td>\n",
              "    </tr>\n",
              "    <tr>\n",
              "      <th>4</th>\n",
              "      <td>L0005</td>\n",
              "      <td>1</td>\n",
              "      <td>1</td>\n",
              "      <td>1</td>\n",
              "      <td>0</td>\n",
              "    </tr>\n",
              "  </tbody>\n",
              "</table>\n",
              "</div>\n",
              "      <button class=\"colab-df-convert\" onclick=\"convertToInteractive('df-7b4bbef1-f8d5-4e99-9e85-a3b97092d895')\"\n",
              "              title=\"Convert this dataframe to an interactive table.\"\n",
              "              style=\"display:none;\">\n",
              "        \n",
              "  <svg xmlns=\"http://www.w3.org/2000/svg\" height=\"24px\"viewBox=\"0 0 24 24\"\n",
              "       width=\"24px\">\n",
              "    <path d=\"M0 0h24v24H0V0z\" fill=\"none\"/>\n",
              "    <path d=\"M18.56 5.44l.94 2.06.94-2.06 2.06-.94-2.06-.94-.94-2.06-.94 2.06-2.06.94zm-11 1L8.5 8.5l.94-2.06 2.06-.94-2.06-.94L8.5 2.5l-.94 2.06-2.06.94zm10 10l.94 2.06.94-2.06 2.06-.94-2.06-.94-.94-2.06-.94 2.06-2.06.94z\"/><path d=\"M17.41 7.96l-1.37-1.37c-.4-.4-.92-.59-1.43-.59-.52 0-1.04.2-1.43.59L10.3 9.45l-7.72 7.72c-.78.78-.78 2.05 0 2.83L4 21.41c.39.39.9.59 1.41.59.51 0 1.02-.2 1.41-.59l7.78-7.78 2.81-2.81c.8-.78.8-2.07 0-2.86zM5.41 20L4 18.59l7.72-7.72 1.47 1.35L5.41 20z\"/>\n",
              "  </svg>\n",
              "      </button>\n",
              "      \n",
              "  <style>\n",
              "    .colab-df-container {\n",
              "      display:flex;\n",
              "      flex-wrap:wrap;\n",
              "      gap: 12px;\n",
              "    }\n",
              "\n",
              "    .colab-df-convert {\n",
              "      background-color: #E8F0FE;\n",
              "      border: none;\n",
              "      border-radius: 50%;\n",
              "      cursor: pointer;\n",
              "      display: none;\n",
              "      fill: #1967D2;\n",
              "      height: 32px;\n",
              "      padding: 0 0 0 0;\n",
              "      width: 32px;\n",
              "    }\n",
              "\n",
              "    .colab-df-convert:hover {\n",
              "      background-color: #E2EBFA;\n",
              "      box-shadow: 0px 1px 2px rgba(60, 64, 67, 0.3), 0px 1px 3px 1px rgba(60, 64, 67, 0.15);\n",
              "      fill: #174EA6;\n",
              "    }\n",
              "\n",
              "    [theme=dark] .colab-df-convert {\n",
              "      background-color: #3B4455;\n",
              "      fill: #D2E3FC;\n",
              "    }\n",
              "\n",
              "    [theme=dark] .colab-df-convert:hover {\n",
              "      background-color: #434B5C;\n",
              "      box-shadow: 0px 1px 3px 1px rgba(0, 0, 0, 0.15);\n",
              "      filter: drop-shadow(0px 1px 2px rgba(0, 0, 0, 0.3));\n",
              "      fill: #FFFFFF;\n",
              "    }\n",
              "  </style>\n",
              "\n",
              "      <script>\n",
              "        const buttonEl =\n",
              "          document.querySelector('#df-7b4bbef1-f8d5-4e99-9e85-a3b97092d895 button.colab-df-convert');\n",
              "        buttonEl.style.display =\n",
              "          google.colab.kernel.accessAllowed ? 'block' : 'none';\n",
              "\n",
              "        async function convertToInteractive(key) {\n",
              "          const element = document.querySelector('#df-7b4bbef1-f8d5-4e99-9e85-a3b97092d895');\n",
              "          const dataTable =\n",
              "            await google.colab.kernel.invokeFunction('convertToInteractive',\n",
              "                                                     [key], {});\n",
              "          if (!dataTable) return;\n",
              "\n",
              "          const docLinkHtml = 'Like what you see? Visit the ' +\n",
              "            '<a target=\"_blank\" href=https://colab.research.google.com/notebooks/data_table.ipynb>data table notebook</a>'\n",
              "            + ' to learn more about interactive tables.';\n",
              "          element.innerHTML = '';\n",
              "          dataTable['output_type'] = 'display_data';\n",
              "          await google.colab.output.renderOutput(dataTable, element);\n",
              "          const docLink = document.createElement('div');\n",
              "          docLink.innerHTML = docLinkHtml;\n",
              "          element.appendChild(docLink);\n",
              "        }\n",
              "      </script>\n",
              "    </div>\n",
              "  </div>\n",
              "  "
            ]
          },
          "metadata": {},
          "execution_count": 38
        }
      ]
    },
    {
      "cell_type": "code",
      "execution_count": 39,
      "metadata": {
        "id": "G-QUIVvyxRkK",
        "colab": {
          "base_uri": "https://localhost:8080/"
        },
        "outputId": "b1d74506-8131-4093-b7a6-10f2b07deba9"
      },
      "outputs": [
        {
          "output_type": "stream",
          "name": "stdout",
          "text": [
            "    customer_id   age       race         job marital_status  education  \\\n",
            "0         L0001  59.0    chinese      admin.        married  secondary   \n",
            "1         L0002  56.0    chinese      admin.        married  secondary   \n",
            "2         L0003  41.0    chinese  technician        married  secondary   \n",
            "3         L0004  55.0  bumiputra    services        married  secondary   \n",
            "4         L0005  54.0    chinese      admin.        married   tertiary   \n",
            "..          ...   ...        ...         ...            ...        ...   \n",
            "995       L0996   NaN        NaN         NaN            NaN        NaN   \n",
            "996       L0997   NaN        NaN         NaN            NaN        NaN   \n",
            "997       L0998   NaN        NaN         NaN            NaN        NaN   \n",
            "998       L0999   NaN        NaN         NaN            NaN        NaN   \n",
            "999       L1000   NaN        NaN         NaN            NaN        NaN   \n",
            "\n",
            "     casa_balance  creditcard  car_loan  personal_loan  housing_loan  \n",
            "0          2343.0         NaN       NaN            NaN           NaN  \n",
            "1            45.0         NaN       NaN            NaN           NaN  \n",
            "2          1270.0         NaN       NaN            NaN           NaN  \n",
            "3          2476.0         NaN       NaN            NaN           NaN  \n",
            "4           184.0         NaN       NaN            NaN           NaN  \n",
            "..            ...         ...       ...            ...           ...  \n",
            "995           NaN         1.0       1.0            1.0           1.0  \n",
            "996           NaN         1.0       0.0            1.0           1.0  \n",
            "997           NaN         1.0       1.0            1.0           0.0  \n",
            "998           NaN         0.0       1.0            1.0           1.0  \n",
            "999           NaN         1.0       0.0            1.0           1.0  \n",
            "\n",
            "[2000 rows x 11 columns]\n"
          ]
        },
        {
          "output_type": "stream",
          "name": "stderr",
          "text": [
            "<ipython-input-39-b265a2d0fa1e>:2: FutureWarning: The frame.append method is deprecated and will be removed from pandas in a future version. Use pandas.concat instead.\n",
            "  result_concat = data.append(data1)\n"
          ]
        }
      ],
      "source": [
        "# Concatenate DataFrames\n",
        "result_concat = data.append(data1)\n",
        "\n",
        "print(result_concat)"
      ]
    },
    {
      "cell_type": "code",
      "execution_count": 40,
      "metadata": {
        "id": "wigdS_-PxRy7",
        "colab": {
          "base_uri": "https://localhost:8080/"
        },
        "outputId": "35cfe8b9-697b-48a4-ea32-754c55e4582e"
      },
      "outputs": [
        {
          "output_type": "stream",
          "name": "stdout",
          "text": [
            "    customer_id  age       race          job marital_status  education  \\\n",
            "0         L0001   59    chinese       admin.        married  secondary   \n",
            "1         L0002   56    chinese       admin.        married  secondary   \n",
            "2         L0003   41    chinese   technician        married  secondary   \n",
            "3         L0004   55  bumiputra     services        married  secondary   \n",
            "4         L0005   54    chinese       admin.        married   tertiary   \n",
            "..          ...  ...        ...          ...            ...        ...   \n",
            "995       L0996   32     others  blue-collar        married  secondary   \n",
            "996       L0997   32    chinese   technician        married   tertiary   \n",
            "997       L0998   41     indian  blue-collar         single  secondary   \n",
            "998       L0999   34    chinese  blue-collar         single  secondary   \n",
            "999       L1000   40  bumiputra     services         single  secondary   \n",
            "\n",
            "     casa_balance customer_id  creditcard  car_loan  personal_loan  \\\n",
            "0            2343       L0001           1         1              1   \n",
            "1              45       L0002           1         0              1   \n",
            "2            1270       L0003           1         1              1   \n",
            "3            2476       L0004           1         1              1   \n",
            "4             184       L0005           1         1              1   \n",
            "..            ...         ...         ...       ...            ...   \n",
            "995           254       L0996           1         1              1   \n",
            "996          4654       L0997           1         0              1   \n",
            "997             0       L0998           1         1              1   \n",
            "998          3043       L0999           0         1              1   \n",
            "999          1547       L1000           1         0              1   \n",
            "\n",
            "     housing_loan  \n",
            "0               1  \n",
            "1               0  \n",
            "2               1  \n",
            "3               1  \n",
            "4               0  \n",
            "..            ...  \n",
            "995             1  \n",
            "996             1  \n",
            "997             0  \n",
            "998             1  \n",
            "999             1  \n",
            "\n",
            "[1000 rows x 12 columns]\n"
          ]
        }
      ],
      "source": [
        "# Concatenate DataFrames horizontally\n",
        "result_horizontal = pd.concat([data, data1], axis=1)\n",
        "\n",
        "print(result_horizontal)"
      ]
    },
    {
      "cell_type": "code",
      "execution_count": 58,
      "metadata": {
        "id": "NlZMY8pNxSDK",
        "colab": {
          "base_uri": "https://localhost:8080/"
        },
        "outputId": "cf386920-f788-4a3b-f422-6c0146b30459"
      },
      "outputs": [
        {
          "output_type": "stream",
          "name": "stdout",
          "text": [
            "    customer_id  age       race          job marital_status  education  \\\n",
            "0         L0001   59    chinese       admin.        married  secondary   \n",
            "1         L0002   56    chinese       admin.        married  secondary   \n",
            "2         L0003   41    chinese   technician        married  secondary   \n",
            "3         L0004   55  bumiputra     services        married  secondary   \n",
            "4         L0005   54    chinese       admin.        married   tertiary   \n",
            "..          ...  ...        ...          ...            ...        ...   \n",
            "995       L0996   32     others  blue-collar        married  secondary   \n",
            "996       L0997   32    chinese   technician        married   tertiary   \n",
            "997       L0998   41     indian  blue-collar         single  secondary   \n",
            "998       L0999   34    chinese  blue-collar         single  secondary   \n",
            "999       L1000   40  bumiputra     services         single  secondary   \n",
            "\n",
            "     casa_balance  creditcard  car_loan  personal_loan  housing_loan  \n",
            "0            2343           1         1              1             1  \n",
            "1              45           1         0              1             0  \n",
            "2            1270           1         1              1             1  \n",
            "3            2476           1         1              1             1  \n",
            "4             184           1         1              1             0  \n",
            "..            ...         ...       ...            ...           ...  \n",
            "995           254           1         1              1             1  \n",
            "996          4654           1         0              1             1  \n",
            "997             0           1         1              1             0  \n",
            "998          3043           0         1              1             1  \n",
            "999          1547           1         0              1             1  \n",
            "\n",
            "[1000 rows x 11 columns]\n"
          ]
        }
      ],
      "source": [
        "# Perform inner join\n",
        "final_result = data.join(data1.set_index('customer_id'), on='customer_id', how='inner')\n",
        "\n",
        "print(final_result)"
      ]
    },
    {
      "cell_type": "code",
      "source": [
        "# Selecting customers with age more than 24, married, and own a house\n",
        "count = final_result[(final_result['age'] > 24) & (final_result['marital_status'] == 'married') & (final_result['housing_loan'] == 1)]['customer_id'].count()\n",
        "\n",
        "print(\"Count of customers with age greater than 24, married, and owns a house is ->\", count)\n"
      ],
      "metadata": {
        "colab": {
          "base_uri": "https://localhost:8080/"
        },
        "id": "Any8N6SN_zQV",
        "outputId": "7f9d9e93-5400-4966-cb98-ed98ec2d8cf1"
      },
      "execution_count": 65,
      "outputs": [
        {
          "output_type": "stream",
          "name": "stdout",
          "text": [
            "Count of customers with age greater than 24, married, and owns a house is -> 268\n"
          ]
        }
      ]
    },
    {
      "cell_type": "code",
      "source": [
        "# Selecting customers with age between 30-40, single, and own a house\n",
        "count = final_result[(final_result['age'].between(30, 40)) & (final_result['marital_status'] == 'single') & (final_result['housing_loan'] == 1)]['customer_id'].count()\n",
        "\n",
        "print(\"Count of customers with age between 30 and 40, single, and owns a house is ->\", count)\n"
      ],
      "metadata": {
        "colab": {
          "base_uri": "https://localhost:8080/"
        },
        "id": "yWJD0fMFBM_l",
        "outputId": "2e57a0fa-2beb-4e6a-cbbd-f61bf7555aa8"
      },
      "execution_count": 66,
      "outputs": [
        {
          "output_type": "stream",
          "name": "stdout",
          "text": [
            "Count of customers with age between 30 and 40, single, and owns a house is -> 71\n"
          ]
        }
      ]
    },
    {
      "cell_type": "markdown",
      "metadata": {
        "id": "v1aSJ8PSCzcB"
      },
      "source": [
        "# Statistics"
      ]
    },
    {
      "cell_type": "code",
      "execution_count": 67,
      "metadata": {
        "id": "WkVjAe6FC12W",
        "colab": {
          "base_uri": "https://localhost:8080/",
          "height": 300
        },
        "outputId": "eb079778-df37-4088-a24a-c58439facbd5"
      },
      "outputs": [
        {
          "output_type": "execute_result",
          "data": {
            "text/plain": [
              "               age  casa_balance   creditcard     car_loan  personal_loan  \\\n",
              "count  1000.000000   1000.000000  1000.000000  1000.000000    1000.000000   \n",
              "mean     40.383000   1315.785000     0.684000     0.841000       0.874000   \n",
              "std       9.731444   2302.131159     0.465146     0.365859       0.332015   \n",
              "min      23.000000      0.000000     0.000000     0.000000       0.000000   \n",
              "25%      32.000000     94.000000     0.000000     1.000000       1.000000   \n",
              "50%      39.000000    518.000000     1.000000     1.000000       1.000000   \n",
              "75%      48.000000   1569.000000     1.000000     1.000000       1.000000   \n",
              "max      61.000000  34646.000000     1.000000     1.000000       1.000000   \n",
              "\n",
              "       housing_loan  \n",
              "count   1000.000000  \n",
              "mean       0.511000  \n",
              "std        0.500129  \n",
              "min        0.000000  \n",
              "25%        0.000000  \n",
              "50%        1.000000  \n",
              "75%        1.000000  \n",
              "max        1.000000  "
            ],
            "text/html": [
              "\n",
              "  <div id=\"df-09350e6d-b2c9-46da-9840-dc16a53fd058\">\n",
              "    <div class=\"colab-df-container\">\n",
              "      <div>\n",
              "<style scoped>\n",
              "    .dataframe tbody tr th:only-of-type {\n",
              "        vertical-align: middle;\n",
              "    }\n",
              "\n",
              "    .dataframe tbody tr th {\n",
              "        vertical-align: top;\n",
              "    }\n",
              "\n",
              "    .dataframe thead th {\n",
              "        text-align: right;\n",
              "    }\n",
              "</style>\n",
              "<table border=\"1\" class=\"dataframe\">\n",
              "  <thead>\n",
              "    <tr style=\"text-align: right;\">\n",
              "      <th></th>\n",
              "      <th>age</th>\n",
              "      <th>casa_balance</th>\n",
              "      <th>creditcard</th>\n",
              "      <th>car_loan</th>\n",
              "      <th>personal_loan</th>\n",
              "      <th>housing_loan</th>\n",
              "    </tr>\n",
              "  </thead>\n",
              "  <tbody>\n",
              "    <tr>\n",
              "      <th>count</th>\n",
              "      <td>1000.000000</td>\n",
              "      <td>1000.000000</td>\n",
              "      <td>1000.000000</td>\n",
              "      <td>1000.000000</td>\n",
              "      <td>1000.000000</td>\n",
              "      <td>1000.000000</td>\n",
              "    </tr>\n",
              "    <tr>\n",
              "      <th>mean</th>\n",
              "      <td>40.383000</td>\n",
              "      <td>1315.785000</td>\n",
              "      <td>0.684000</td>\n",
              "      <td>0.841000</td>\n",
              "      <td>0.874000</td>\n",
              "      <td>0.511000</td>\n",
              "    </tr>\n",
              "    <tr>\n",
              "      <th>std</th>\n",
              "      <td>9.731444</td>\n",
              "      <td>2302.131159</td>\n",
              "      <td>0.465146</td>\n",
              "      <td>0.365859</td>\n",
              "      <td>0.332015</td>\n",
              "      <td>0.500129</td>\n",
              "    </tr>\n",
              "    <tr>\n",
              "      <th>min</th>\n",
              "      <td>23.000000</td>\n",
              "      <td>0.000000</td>\n",
              "      <td>0.000000</td>\n",
              "      <td>0.000000</td>\n",
              "      <td>0.000000</td>\n",
              "      <td>0.000000</td>\n",
              "    </tr>\n",
              "    <tr>\n",
              "      <th>25%</th>\n",
              "      <td>32.000000</td>\n",
              "      <td>94.000000</td>\n",
              "      <td>0.000000</td>\n",
              "      <td>1.000000</td>\n",
              "      <td>1.000000</td>\n",
              "      <td>0.000000</td>\n",
              "    </tr>\n",
              "    <tr>\n",
              "      <th>50%</th>\n",
              "      <td>39.000000</td>\n",
              "      <td>518.000000</td>\n",
              "      <td>1.000000</td>\n",
              "      <td>1.000000</td>\n",
              "      <td>1.000000</td>\n",
              "      <td>1.000000</td>\n",
              "    </tr>\n",
              "    <tr>\n",
              "      <th>75%</th>\n",
              "      <td>48.000000</td>\n",
              "      <td>1569.000000</td>\n",
              "      <td>1.000000</td>\n",
              "      <td>1.000000</td>\n",
              "      <td>1.000000</td>\n",
              "      <td>1.000000</td>\n",
              "    </tr>\n",
              "    <tr>\n",
              "      <th>max</th>\n",
              "      <td>61.000000</td>\n",
              "      <td>34646.000000</td>\n",
              "      <td>1.000000</td>\n",
              "      <td>1.000000</td>\n",
              "      <td>1.000000</td>\n",
              "      <td>1.000000</td>\n",
              "    </tr>\n",
              "  </tbody>\n",
              "</table>\n",
              "</div>\n",
              "      <button class=\"colab-df-convert\" onclick=\"convertToInteractive('df-09350e6d-b2c9-46da-9840-dc16a53fd058')\"\n",
              "              title=\"Convert this dataframe to an interactive table.\"\n",
              "              style=\"display:none;\">\n",
              "        \n",
              "  <svg xmlns=\"http://www.w3.org/2000/svg\" height=\"24px\"viewBox=\"0 0 24 24\"\n",
              "       width=\"24px\">\n",
              "    <path d=\"M0 0h24v24H0V0z\" fill=\"none\"/>\n",
              "    <path d=\"M18.56 5.44l.94 2.06.94-2.06 2.06-.94-2.06-.94-.94-2.06-.94 2.06-2.06.94zm-11 1L8.5 8.5l.94-2.06 2.06-.94-2.06-.94L8.5 2.5l-.94 2.06-2.06.94zm10 10l.94 2.06.94-2.06 2.06-.94-2.06-.94-.94-2.06-.94 2.06-2.06.94z\"/><path d=\"M17.41 7.96l-1.37-1.37c-.4-.4-.92-.59-1.43-.59-.52 0-1.04.2-1.43.59L10.3 9.45l-7.72 7.72c-.78.78-.78 2.05 0 2.83L4 21.41c.39.39.9.59 1.41.59.51 0 1.02-.2 1.41-.59l7.78-7.78 2.81-2.81c.8-.78.8-2.07 0-2.86zM5.41 20L4 18.59l7.72-7.72 1.47 1.35L5.41 20z\"/>\n",
              "  </svg>\n",
              "      </button>\n",
              "      \n",
              "  <style>\n",
              "    .colab-df-container {\n",
              "      display:flex;\n",
              "      flex-wrap:wrap;\n",
              "      gap: 12px;\n",
              "    }\n",
              "\n",
              "    .colab-df-convert {\n",
              "      background-color: #E8F0FE;\n",
              "      border: none;\n",
              "      border-radius: 50%;\n",
              "      cursor: pointer;\n",
              "      display: none;\n",
              "      fill: #1967D2;\n",
              "      height: 32px;\n",
              "      padding: 0 0 0 0;\n",
              "      width: 32px;\n",
              "    }\n",
              "\n",
              "    .colab-df-convert:hover {\n",
              "      background-color: #E2EBFA;\n",
              "      box-shadow: 0px 1px 2px rgba(60, 64, 67, 0.3), 0px 1px 3px 1px rgba(60, 64, 67, 0.15);\n",
              "      fill: #174EA6;\n",
              "    }\n",
              "\n",
              "    [theme=dark] .colab-df-convert {\n",
              "      background-color: #3B4455;\n",
              "      fill: #D2E3FC;\n",
              "    }\n",
              "\n",
              "    [theme=dark] .colab-df-convert:hover {\n",
              "      background-color: #434B5C;\n",
              "      box-shadow: 0px 1px 3px 1px rgba(0, 0, 0, 0.15);\n",
              "      filter: drop-shadow(0px 1px 2px rgba(0, 0, 0, 0.3));\n",
              "      fill: #FFFFFF;\n",
              "    }\n",
              "  </style>\n",
              "\n",
              "      <script>\n",
              "        const buttonEl =\n",
              "          document.querySelector('#df-09350e6d-b2c9-46da-9840-dc16a53fd058 button.colab-df-convert');\n",
              "        buttonEl.style.display =\n",
              "          google.colab.kernel.accessAllowed ? 'block' : 'none';\n",
              "\n",
              "        async function convertToInteractive(key) {\n",
              "          const element = document.querySelector('#df-09350e6d-b2c9-46da-9840-dc16a53fd058');\n",
              "          const dataTable =\n",
              "            await google.colab.kernel.invokeFunction('convertToInteractive',\n",
              "                                                     [key], {});\n",
              "          if (!dataTable) return;\n",
              "\n",
              "          const docLinkHtml = 'Like what you see? Visit the ' +\n",
              "            '<a target=\"_blank\" href=https://colab.research.google.com/notebooks/data_table.ipynb>data table notebook</a>'\n",
              "            + ' to learn more about interactive tables.';\n",
              "          element.innerHTML = '';\n",
              "          dataTable['output_type'] = 'display_data';\n",
              "          await google.colab.output.renderOutput(dataTable, element);\n",
              "          const docLink = document.createElement('div');\n",
              "          docLink.innerHTML = docLinkHtml;\n",
              "          element.appendChild(docLink);\n",
              "        }\n",
              "      </script>\n",
              "    </div>\n",
              "  </div>\n",
              "  "
            ]
          },
          "metadata": {},
          "execution_count": 67
        }
      ],
      "source": [
        "#Summary statistics for numerical columns\n",
        "final_result.describe()"
      ]
    },
    {
      "cell_type": "code",
      "execution_count": 68,
      "metadata": {
        "id": "VbfppRw8C6ZU",
        "colab": {
          "base_uri": "https://localhost:8080/"
        },
        "outputId": "88259590-2d69-4f9a-9eb2-ec66d27bf191"
      },
      "outputs": [
        {
          "output_type": "stream",
          "name": "stderr",
          "text": [
            "<ipython-input-68-f12664684d62>:2: FutureWarning: The default value of numeric_only in DataFrame.mean is deprecated. In a future version, it will default to False. In addition, specifying 'numeric_only=None' is deprecated. Select only valid columns or specify the value of numeric_only to silence this warning.\n",
            "  final_result.mean()\n"
          ]
        },
        {
          "output_type": "execute_result",
          "data": {
            "text/plain": [
              "age                40.383\n",
              "casa_balance     1315.785\n",
              "creditcard          0.684\n",
              "car_loan            0.841\n",
              "personal_loan       0.874\n",
              "housing_loan        0.511\n",
              "dtype: float64"
            ]
          },
          "metadata": {},
          "execution_count": 68
        }
      ],
      "source": [
        "#Returns the mean of all columns\n",
        "final_result.mean()"
      ]
    },
    {
      "cell_type": "code",
      "execution_count": 69,
      "metadata": {
        "id": "b12XX5lsC6tu",
        "colab": {
          "base_uri": "https://localhost:8080/",
          "height": 292
        },
        "outputId": "a8195a76-5a91-441c-a232-cf41c8eab086"
      },
      "outputs": [
        {
          "output_type": "stream",
          "name": "stderr",
          "text": [
            "<ipython-input-69-644f01c63b66>:2: FutureWarning: The default value of numeric_only in DataFrame.corr is deprecated. In a future version, it will default to False. Select only valid columns or specify the value of numeric_only to silence this warning.\n",
            "  final_result.corr()\n"
          ]
        },
        {
          "output_type": "execute_result",
          "data": {
            "text/plain": [
              "                    age  casa_balance  creditcard  car_loan  personal_loan  \\\n",
              "age            1.000000      0.080417   -0.073634  0.027805      -0.016030   \n",
              "casa_balance   0.080417      1.000000   -0.082587  0.023046      -0.016204   \n",
              "creditcard    -0.073634     -0.082587    1.000000  0.045622      -0.044179   \n",
              "car_loan       0.027805      0.023046    0.045622  1.000000       0.065645   \n",
              "personal_loan -0.016030     -0.016204   -0.044179  0.065645       1.000000   \n",
              "housing_loan  -0.227003     -0.012284    0.096712 -0.036932      -0.051928   \n",
              "\n",
              "               housing_loan  \n",
              "age               -0.227003  \n",
              "casa_balance      -0.012284  \n",
              "creditcard         0.096712  \n",
              "car_loan          -0.036932  \n",
              "personal_loan     -0.051928  \n",
              "housing_loan       1.000000  "
            ],
            "text/html": [
              "\n",
              "  <div id=\"df-920394b4-c932-4e8e-af7f-fc85b47d0620\">\n",
              "    <div class=\"colab-df-container\">\n",
              "      <div>\n",
              "<style scoped>\n",
              "    .dataframe tbody tr th:only-of-type {\n",
              "        vertical-align: middle;\n",
              "    }\n",
              "\n",
              "    .dataframe tbody tr th {\n",
              "        vertical-align: top;\n",
              "    }\n",
              "\n",
              "    .dataframe thead th {\n",
              "        text-align: right;\n",
              "    }\n",
              "</style>\n",
              "<table border=\"1\" class=\"dataframe\">\n",
              "  <thead>\n",
              "    <tr style=\"text-align: right;\">\n",
              "      <th></th>\n",
              "      <th>age</th>\n",
              "      <th>casa_balance</th>\n",
              "      <th>creditcard</th>\n",
              "      <th>car_loan</th>\n",
              "      <th>personal_loan</th>\n",
              "      <th>housing_loan</th>\n",
              "    </tr>\n",
              "  </thead>\n",
              "  <tbody>\n",
              "    <tr>\n",
              "      <th>age</th>\n",
              "      <td>1.000000</td>\n",
              "      <td>0.080417</td>\n",
              "      <td>-0.073634</td>\n",
              "      <td>0.027805</td>\n",
              "      <td>-0.016030</td>\n",
              "      <td>-0.227003</td>\n",
              "    </tr>\n",
              "    <tr>\n",
              "      <th>casa_balance</th>\n",
              "      <td>0.080417</td>\n",
              "      <td>1.000000</td>\n",
              "      <td>-0.082587</td>\n",
              "      <td>0.023046</td>\n",
              "      <td>-0.016204</td>\n",
              "      <td>-0.012284</td>\n",
              "    </tr>\n",
              "    <tr>\n",
              "      <th>creditcard</th>\n",
              "      <td>-0.073634</td>\n",
              "      <td>-0.082587</td>\n",
              "      <td>1.000000</td>\n",
              "      <td>0.045622</td>\n",
              "      <td>-0.044179</td>\n",
              "      <td>0.096712</td>\n",
              "    </tr>\n",
              "    <tr>\n",
              "      <th>car_loan</th>\n",
              "      <td>0.027805</td>\n",
              "      <td>0.023046</td>\n",
              "      <td>0.045622</td>\n",
              "      <td>1.000000</td>\n",
              "      <td>0.065645</td>\n",
              "      <td>-0.036932</td>\n",
              "    </tr>\n",
              "    <tr>\n",
              "      <th>personal_loan</th>\n",
              "      <td>-0.016030</td>\n",
              "      <td>-0.016204</td>\n",
              "      <td>-0.044179</td>\n",
              "      <td>0.065645</td>\n",
              "      <td>1.000000</td>\n",
              "      <td>-0.051928</td>\n",
              "    </tr>\n",
              "    <tr>\n",
              "      <th>housing_loan</th>\n",
              "      <td>-0.227003</td>\n",
              "      <td>-0.012284</td>\n",
              "      <td>0.096712</td>\n",
              "      <td>-0.036932</td>\n",
              "      <td>-0.051928</td>\n",
              "      <td>1.000000</td>\n",
              "    </tr>\n",
              "  </tbody>\n",
              "</table>\n",
              "</div>\n",
              "      <button class=\"colab-df-convert\" onclick=\"convertToInteractive('df-920394b4-c932-4e8e-af7f-fc85b47d0620')\"\n",
              "              title=\"Convert this dataframe to an interactive table.\"\n",
              "              style=\"display:none;\">\n",
              "        \n",
              "  <svg xmlns=\"http://www.w3.org/2000/svg\" height=\"24px\"viewBox=\"0 0 24 24\"\n",
              "       width=\"24px\">\n",
              "    <path d=\"M0 0h24v24H0V0z\" fill=\"none\"/>\n",
              "    <path d=\"M18.56 5.44l.94 2.06.94-2.06 2.06-.94-2.06-.94-.94-2.06-.94 2.06-2.06.94zm-11 1L8.5 8.5l.94-2.06 2.06-.94-2.06-.94L8.5 2.5l-.94 2.06-2.06.94zm10 10l.94 2.06.94-2.06 2.06-.94-2.06-.94-.94-2.06-.94 2.06-2.06.94z\"/><path d=\"M17.41 7.96l-1.37-1.37c-.4-.4-.92-.59-1.43-.59-.52 0-1.04.2-1.43.59L10.3 9.45l-7.72 7.72c-.78.78-.78 2.05 0 2.83L4 21.41c.39.39.9.59 1.41.59.51 0 1.02-.2 1.41-.59l7.78-7.78 2.81-2.81c.8-.78.8-2.07 0-2.86zM5.41 20L4 18.59l7.72-7.72 1.47 1.35L5.41 20z\"/>\n",
              "  </svg>\n",
              "      </button>\n",
              "      \n",
              "  <style>\n",
              "    .colab-df-container {\n",
              "      display:flex;\n",
              "      flex-wrap:wrap;\n",
              "      gap: 12px;\n",
              "    }\n",
              "\n",
              "    .colab-df-convert {\n",
              "      background-color: #E8F0FE;\n",
              "      border: none;\n",
              "      border-radius: 50%;\n",
              "      cursor: pointer;\n",
              "      display: none;\n",
              "      fill: #1967D2;\n",
              "      height: 32px;\n",
              "      padding: 0 0 0 0;\n",
              "      width: 32px;\n",
              "    }\n",
              "\n",
              "    .colab-df-convert:hover {\n",
              "      background-color: #E2EBFA;\n",
              "      box-shadow: 0px 1px 2px rgba(60, 64, 67, 0.3), 0px 1px 3px 1px rgba(60, 64, 67, 0.15);\n",
              "      fill: #174EA6;\n",
              "    }\n",
              "\n",
              "    [theme=dark] .colab-df-convert {\n",
              "      background-color: #3B4455;\n",
              "      fill: #D2E3FC;\n",
              "    }\n",
              "\n",
              "    [theme=dark] .colab-df-convert:hover {\n",
              "      background-color: #434B5C;\n",
              "      box-shadow: 0px 1px 3px 1px rgba(0, 0, 0, 0.15);\n",
              "      filter: drop-shadow(0px 1px 2px rgba(0, 0, 0, 0.3));\n",
              "      fill: #FFFFFF;\n",
              "    }\n",
              "  </style>\n",
              "\n",
              "      <script>\n",
              "        const buttonEl =\n",
              "          document.querySelector('#df-920394b4-c932-4e8e-af7f-fc85b47d0620 button.colab-df-convert');\n",
              "        buttonEl.style.display =\n",
              "          google.colab.kernel.accessAllowed ? 'block' : 'none';\n",
              "\n",
              "        async function convertToInteractive(key) {\n",
              "          const element = document.querySelector('#df-920394b4-c932-4e8e-af7f-fc85b47d0620');\n",
              "          const dataTable =\n",
              "            await google.colab.kernel.invokeFunction('convertToInteractive',\n",
              "                                                     [key], {});\n",
              "          if (!dataTable) return;\n",
              "\n",
              "          const docLinkHtml = 'Like what you see? Visit the ' +\n",
              "            '<a target=\"_blank\" href=https://colab.research.google.com/notebooks/data_table.ipynb>data table notebook</a>'\n",
              "            + ' to learn more about interactive tables.';\n",
              "          element.innerHTML = '';\n",
              "          dataTable['output_type'] = 'display_data';\n",
              "          await google.colab.output.renderOutput(dataTable, element);\n",
              "          const docLink = document.createElement('div');\n",
              "          docLink.innerHTML = docLinkHtml;\n",
              "          element.appendChild(docLink);\n",
              "        }\n",
              "      </script>\n",
              "    </div>\n",
              "  </div>\n",
              "  "
            ]
          },
          "metadata": {},
          "execution_count": 69
        }
      ],
      "source": [
        "#Returns the correlation between columns in a DataFrame\n",
        "final_result.corr()"
      ]
    },
    {
      "cell_type": "code",
      "execution_count": 70,
      "metadata": {
        "id": "36sv_dv_C7Bn",
        "colab": {
          "base_uri": "https://localhost:8080/"
        },
        "outputId": "adf1e3ec-b085-4d02-920c-443cd85957c5"
      },
      "outputs": [
        {
          "output_type": "execute_result",
          "data": {
            "text/plain": [
              "customer_id       1000\n",
              "age               1000\n",
              "race              1000\n",
              "job               1000\n",
              "marital_status    1000\n",
              "education         1000\n",
              "casa_balance      1000\n",
              "creditcard        1000\n",
              "car_loan          1000\n",
              "personal_loan     1000\n",
              "housing_loan      1000\n",
              "dtype: int64"
            ]
          },
          "metadata": {},
          "execution_count": 70
        }
      ],
      "source": [
        "#Returns the number of non-null values in each DataFrame column\n",
        "final_result.count()"
      ]
    },
    {
      "cell_type": "code",
      "execution_count": 71,
      "metadata": {
        "id": "EjndId0BDebC",
        "colab": {
          "base_uri": "https://localhost:8080/"
        },
        "outputId": "f42cb2bb-1aa6-48ca-c388-a519138176e1"
      },
      "outputs": [
        {
          "output_type": "execute_result",
          "data": {
            "text/plain": [
              "customer_id         L1000\n",
              "age                    61\n",
              "race               others\n",
              "job               unknown\n",
              "marital_status     single\n",
              "education         unknown\n",
              "casa_balance        34646\n",
              "creditcard              1\n",
              "car_loan                1\n",
              "personal_loan           1\n",
              "housing_loan            1\n",
              "dtype: object"
            ]
          },
          "metadata": {},
          "execution_count": 71
        }
      ],
      "source": [
        "#Returns the highest value in each column\n",
        "final_result.max()"
      ]
    },
    {
      "cell_type": "code",
      "execution_count": 72,
      "metadata": {
        "id": "YgA8XRoRDeu1",
        "colab": {
          "base_uri": "https://localhost:8080/"
        },
        "outputId": "98f90130-596a-4aa8-9837-290e3ecae86e"
      },
      "outputs": [
        {
          "output_type": "execute_result",
          "data": {
            "text/plain": [
              "customer_id           L0001\n",
              "age                      23\n",
              "race              bumiputra\n",
              "job                  admin.\n",
              "marital_status     divorced\n",
              "education           primary\n",
              "casa_balance              0\n",
              "creditcard                0\n",
              "car_loan                  0\n",
              "personal_loan             0\n",
              "housing_loan              0\n",
              "dtype: object"
            ]
          },
          "metadata": {},
          "execution_count": 72
        }
      ],
      "source": [
        "#Returns the lowest value in each column\n",
        "final_result.min()"
      ]
    },
    {
      "cell_type": "code",
      "execution_count": 73,
      "metadata": {
        "id": "-lLUEi4QDfC_",
        "colab": {
          "base_uri": "https://localhost:8080/"
        },
        "outputId": "17c13568-fc64-4246-b86a-75ea24ca01ed"
      },
      "outputs": [
        {
          "output_type": "stream",
          "name": "stderr",
          "text": [
            "<ipython-input-73-04ff09c8ccda>:2: FutureWarning: The default value of numeric_only in DataFrame.median is deprecated. In a future version, it will default to False. In addition, specifying 'numeric_only=None' is deprecated. Select only valid columns or specify the value of numeric_only to silence this warning.\n",
            "  final_result.median()\n"
          ]
        },
        {
          "output_type": "execute_result",
          "data": {
            "text/plain": [
              "age               39.0\n",
              "casa_balance     518.0\n",
              "creditcard         1.0\n",
              "car_loan           1.0\n",
              "personal_loan      1.0\n",
              "housing_loan       1.0\n",
              "dtype: float64"
            ]
          },
          "metadata": {},
          "execution_count": 73
        }
      ],
      "source": [
        "#Returns the median of each column\n",
        "final_result.median()"
      ]
    },
    {
      "cell_type": "code",
      "execution_count": 74,
      "metadata": {
        "id": "fxjKWD6GDfos",
        "colab": {
          "base_uri": "https://localhost:8080/"
        },
        "outputId": "cdb303af-cab6-45cb-f685-5d1b968a3045"
      },
      "outputs": [
        {
          "output_type": "stream",
          "name": "stderr",
          "text": [
            "<ipython-input-74-cee3e1d6ce5b>:2: FutureWarning: The default value of numeric_only in DataFrame.std is deprecated. In a future version, it will default to False. In addition, specifying 'numeric_only=None' is deprecated. Select only valid columns or specify the value of numeric_only to silence this warning.\n",
            "  final_result.std()\n"
          ]
        },
        {
          "output_type": "execute_result",
          "data": {
            "text/plain": [
              "age                 9.731444\n",
              "casa_balance     2302.131159\n",
              "creditcard          0.465146\n",
              "car_loan            0.365859\n",
              "personal_loan       0.332015\n",
              "housing_loan        0.500129\n",
              "dtype: float64"
            ]
          },
          "metadata": {},
          "execution_count": 74
        }
      ],
      "source": [
        "#Returns the standard deviation of each column​\n",
        "final_result.std()"
      ]
    },
    {
      "cell_type": "markdown",
      "source": [
        "# Data Visualization"
      ],
      "metadata": {
        "id": "o31q7CLP8U32"
      }
    },
    {
      "cell_type": "code",
      "source": [
        "import matplotlib.pyplot as plt"
      ],
      "metadata": {
        "id": "bhCOnYLvbl7U"
      },
      "execution_count": 50,
      "outputs": []
    },
    {
      "cell_type": "code",
      "source": [
        "## Categorical visualization\n",
        "variable = 'education' ## change this to different columns\n",
        "\n",
        "var=final_result[variable]\n",
        "#count number of categorical variable-group by\n",
        "varvalue=var.value_counts()\n",
        "plt.figure(figsize=(9,3))\n",
        "plt.bar(varvalue.index, varvalue)\n",
        "plt.xticks(varvalue.index,varvalue.index.values)\n",
        "plt.ylabel(\"Frequency\")\n",
        "plt.title(variable)\n",
        "plt.show()"
      ],
      "metadata": {
        "colab": {
          "base_uri": "https://localhost:8080/",
          "height": 314
        },
        "id": "c0DESyaK8ZnZ",
        "outputId": "bb0483ea-1850-41e3-c0b4-e5975d61283c"
      },
      "execution_count": 76,
      "outputs": [
        {
          "output_type": "display_data",
          "data": {
            "text/plain": [
              "<Figure size 900x300 with 1 Axes>"
            ],
            "image/png": "[encoded data removed]"
          },
          "metadata": {}
        }
      ]
    },
    {
      "cell_type": "code",
      "source": [
        "import matplotlib.pyplot as plt\n",
        "\n",
        "numeric_var = ['casa_balance', 'age']\n",
        "variable = numeric_var[1]  # Assuming you want to visualize 'personal_loan'\n",
        "\n",
        "var = final_result[variable]\n",
        "\n",
        "plt.figure(figsize=(9, 6))\n",
        "plt.hist(var, bins=50)\n",
        "plt.xlabel(variable.capitalize())\n",
        "plt.ylabel(\"Frequency\")\n",
        "plt.title(\"Histogram of CASA_Balance\")\n",
        "plt.grid(True)\n",
        "plt.show()\n"
      ],
      "metadata": {
        "colab": {
          "base_uri": "https://localhost:8080/",
          "height": 564
        },
        "id": "LdRb2R9RCxPu",
        "outputId": "d21f8e8e-1330-48a5-dd8f-87919b41d2be"
      },
      "execution_count": 80,
      "outputs": [
        {
          "output_type": "display_data",
          "data": {
            "text/plain": [
              "<Figure size 900x600 with 1 Axes>"
            ],
            "image/png": "[encoded data removed]"
          },
          "metadata": {}
        }
      ]
    }
  ],
  "metadata": {
    "colab": {
      "provenance": []
    },
    "kernelspec": {
      "display_name": "Python 3 (ipykernel)",
      "language": "python",
      "name": "python3"
    },
    "language_info": {
      "codemirror_mode": {
        "name": "ipython",
        "version": 3
      },
      "file_extension": ".py",
      "mimetype": "text/x-python",
      "name": "python",
      "nbconvert_exporter": "python",
      "pygments_lexer": "ipython3",
      "version": "3.7.13"
    }
  },
  "nbformat": 4,
  "nbformat_minor": 0
}